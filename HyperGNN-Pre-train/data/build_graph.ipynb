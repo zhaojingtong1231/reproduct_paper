{
 "cells": [
  {
   "cell_type": "code",
   "id": "initial_id",
   "metadata": {
    "collapsed": true,
    "ExecuteTime": {
     "end_time": "2024-09-19T12:18:42.825933Z",
     "start_time": "2024-09-19T12:18:39.938727Z"
    }
   },
   "source": [
    "import torch\n",
    "import pandas as pd\n",
    "import gzip\n",
    "from torch_geometric.data import HeteroData\n",
    "from torch_geometric.utils import add_self_loops"
   ],
   "outputs": [],
   "execution_count": 1
  },
  {
   "metadata": {
    "ExecuteTime": {
     "end_time": "2024-09-19T12:18:54.544639Z",
     "start_time": "2024-09-19T12:18:44.202157Z"
    }
   },
   "cell_type": "code",
   "source": [
    "# 解压并读取数据\n",
    "def read_data(file_path):\n",
    "    with gzip.open(file_path, 'rt') as f:\n",
    "        df = pd.read_csv(f, sep='\\t', header=None, names=['source', 'relation', 'target'])\n",
    "    return df\n",
    "\n",
    "# 创建异构图并初始化特征和关系标签\n",
    "def create_hetero_graph():\n",
    "    data = HeteroData()\n",
    "\n",
    "    # 定义不同的文件路径\n",
    "    file_paths = {\n",
    "        'Drug-Protein': 'drug_protein.txt.gz',\n",
    "        'DDI': 'ddi.txt.gz',\n",
    "        'Protein-Pathway': 'protein_pathway.txt.gz',\n",
    "        'Drug-Pathway': 'drug_pathway.txt.gz',\n",
    "        'Protein-Disease': 'protein_disease.txt.gz',\n",
    "        'Drug-Disease': 'drug_disease.txt.gz',\n",
    "        'PPI': 'ppi.txt.gz'\n",
    "    }\n",
    "    \n",
    "    # 用于存储所有的节点和边\n",
    "    node_types = {'Protein', 'Drug', 'Disease', 'Pathway'}\n",
    "    edge_types = [\n",
    "        ('Drug', 'Drug-Protein', 'Protein'),\n",
    "        ('Drug', 'DDI', 'Drug'),\n",
    "        ('Protein', 'Protein-Pathway', 'Pathway'),\n",
    "        ('Drug', 'Drug-Pathway', 'Pathway'),\n",
    "        ('Protein', 'Protein-Disease', 'Disease'),\n",
    "        ('Drug', 'Drug-Disease', 'Disease'),\n",
    "        ('Protein', 'PPI', 'Protein')\n",
    "    ]\n",
    "    \n",
    "    # 为每个节点类型创建 ID 映射\n",
    "    node_id = {ntype: {} for ntype in node_types}\n",
    "    node_count = {ntype: 0 for ntype in node_types}\n",
    "\n",
    "    # 为每种边类型分配一个唯一的标签（0 到 6）\n",
    "    relation_labels = {edge_types[i]: i for i in range(len(edge_types))}\n",
    "    \n",
    "    # 读取文件并填充图数据\n",
    "    for edge_type in edge_types:\n",
    "        file_name = file_paths[edge_type[1]]\n",
    "        print(f\"Processing edge type: {edge_type}, file: {file_name}\")\n",
    "        dir_path = '/data/zhaojingtong/pharmrgdata/'\n",
    "        df = read_data(dir_path + file_name)\n",
    "        src_type, relation, tgt_type = edge_type\n",
    "\n",
    "        if src_type not in node_id:\n",
    "            node_id[src_type] = {}\n",
    "        if tgt_type not in node_id:\n",
    "            node_id[tgt_type] = {}\n",
    "\n",
    "        # 为源节点和目标节点创建 ID\n",
    "        src_ids = []\n",
    "        tgt_ids = []\n",
    "\n",
    "        for _, row in df.iterrows():\n",
    "            src = row['source']\n",
    "            tgt = row['target']\n",
    "\n",
    "            if src not in node_id[src_type]:\n",
    "                node_id[src_type][src] = node_count[src_type]\n",
    "                node_count[src_type] += 1\n",
    "            if tgt not in node_id[tgt_type]:\n",
    "                node_id[tgt_type][tgt] = node_count[tgt_type]\n",
    "                node_count[tgt_type] += 1\n",
    "\n",
    "            src_ids.append(node_id[src_type][src])\n",
    "            tgt_ids.append(node_id[tgt_type][tgt])\n",
    "\n",
    "        # 转换为 PyG 格式\n",
    "        edge_index = torch.tensor([src_ids, tgt_ids], dtype=torch.long)\n",
    "        data[edge_type].edge_index = edge_index\n",
    "\n",
    "        # 初始化边特征，128维度随机向量\n",
    "        num_edges = edge_index.size(1)\n",
    "        data[edge_type].edge_attr = torch.randn(num_edges, 128)\n",
    "\n",
    "        # 为每种边类型分配标签，使用 relation_labels\n",
    "        data[edge_type].edge_label = torch.full((num_edges,), relation_labels[edge_type], dtype=torch.long)\n",
    "\n",
    "    # 创建节点特征，初始化为128维随机向量\n",
    "    for ntype, id_map in node_id.items():\n",
    "        num_nodes = len(id_map)\n",
    "        data[ntype].num_nodes = num_nodes\n",
    "        data[ntype].x = torch.randn(num_nodes, 128)  # 128维度随机特征\n",
    "\n",
    "    return data\n",
    "\n",
    "# 生成异构图并初始化特征和标签\n",
    "hetero_data = create_hetero_graph()\n",
    "\n",
    "# 检查生成的异构图数据\n",
    "print(hetero_data)\n"
   ],
   "id": "cd8989816b6d9054",
   "outputs": [
    {
     "name": "stdout",
     "output_type": "stream",
     "text": [
      "Processing edge type: ('Drug', 'Drug-Protein', 'Protein'), file: drug_protein.txt.gz\n",
      "Processing edge type: ('Drug', 'DDI', 'Drug'), file: ddi.txt.gz\n"
     ]
    },
    {
     "name": "stderr",
     "output_type": "stream",
     "text": [
      "\n",
      "KeyboardInterrupt\n",
      "\n"
     ]
    }
   ],
   "execution_count": 2
  },
  {
   "metadata": {
    "ExecuteTime": {
     "end_time": "2024-09-19T12:19:03.455616Z",
     "start_time": "2024-09-19T12:19:03.452232Z"
    }
   },
   "cell_type": "code",
   "source": [
    "import torch\n",
    "save_path = '/data/zhaojingtong/pharmrgdata/hetero_graph.pt'\n",
    "# 假设 hetero_data 是你构建好的异构图对象\n",
    "# torch.save(hetero_data, save_path)"
   ],
   "id": "b8eae2812d160115",
   "outputs": [],
   "execution_count": 4
  },
  {
   "metadata": {
    "ExecuteTime": {
     "end_time": "2024-09-19T12:19:07.610225Z",
     "start_time": "2024-09-19T12:19:04.001421Z"
    }
   },
   "cell_type": "code",
   "source": [
    "hetero_data = torch.load(save_path)\n",
    "print(hetero_data)"
   ],
   "id": "a76ef2fd089b476c",
   "outputs": [
    {
     "name": "stdout",
     "output_type": "stream",
     "text": [
      "HeteroData(\n",
      "  \u001B[1mDrug\u001B[0m={\n",
      "    num_nodes=9279,\n",
      "    x=[9279, 128]\n",
      "  },\n",
      "  \u001B[1mDisease\u001B[0m={\n",
      "    num_nodes=5819,\n",
      "    x=[5819, 128]\n",
      "  },\n",
      "  \u001B[1mPathway\u001B[0m={\n",
      "    num_nodes=15771,\n",
      "    x=[15771, 128]\n",
      "  },\n",
      "  \u001B[1mProtein\u001B[0m={\n",
      "    num_nodes=62295,\n",
      "    x=[62295, 128]\n",
      "  },\n",
      "  \u001B[1m(Drug, Drug-Protein, Protein)\u001B[0m={\n",
      "    edge_index=[2, 25994],\n",
      "    edge_attr=[25994, 128],\n",
      "    edge_label=[25994]\n",
      "  },\n",
      "  \u001B[1m(Drug, DDI, Drug)\u001B[0m={\n",
      "    edge_index=[2, 1419538],\n",
      "    edge_attr=[1419538, 128],\n",
      "    edge_label=[1419538]\n",
      "  },\n",
      "  \u001B[1m(Protein, Protein-Pathway, Pathway)\u001B[0m={\n",
      "    edge_index=[2, 281950],\n",
      "    edge_attr=[281950, 128],\n",
      "    edge_label=[281950]\n",
      "  },\n",
      "  \u001B[1m(Drug, Drug-Pathway, Pathway)\u001B[0m={\n",
      "    edge_index=[2, 5114],\n",
      "    edge_attr=[5114, 128],\n",
      "    edge_label=[5114]\n",
      "  },\n",
      "  \u001B[1m(Protein, Protein-Disease, Disease)\u001B[0m={\n",
      "    edge_index=[2, 116699],\n",
      "    edge_attr=[116699, 128],\n",
      "    edge_label=[116699]\n",
      "  },\n",
      "  \u001B[1m(Drug, Drug-Disease, Disease)\u001B[0m={\n",
      "    edge_index=[2, 61726],\n",
      "    edge_attr=[61726, 128],\n",
      "    edge_label=[61726]\n",
      "  },\n",
      "  \u001B[1m(Protein, PPI, Protein)\u001B[0m={\n",
      "    edge_index=[2, 131406],\n",
      "    edge_attr=[131406, 128],\n",
      "    edge_label=[131406]\n",
      "  }\n",
      ")\n"
     ]
    }
   ],
   "execution_count": 5
  },
  {
   "metadata": {
    "ExecuteTime": {
     "end_time": "2024-09-18T07:42:47.164842Z",
     "start_time": "2024-09-18T07:42:45.410454Z"
    }
   },
   "cell_type": "code",
   "source": [
    "import torch\n",
    "\n",
    "# 初始化每种类型的节点特征为128维度随机向量\n",
    "def initialize_node_edge_features(hetero_data):\n",
    "    feature_dim = 1024  # 设定特征维度为128\n",
    "\n",
    "    # 为每种节点类型初始化特征\n",
    "    for node_type in hetero_data.node_types:\n",
    "        num_nodes = hetero_data[node_type].num_nodes\n",
    "        # 生成随机特征向量，形状为 [num_nodes, 128]\n",
    "        hetero_data[node_type].x = torch.randn(num_nodes, feature_dim)\n",
    "        \n",
    "    for edge_type in hetero_data.edge_types:\n",
    "        num_edges = hetero_data[edge_type].edge_index.size(1)  # 获取该类型的边数量\n",
    "        # 生成随机特征向量，形状为 [num_edges, 128]\n",
    "        hetero_data[edge_type].edge_attr = torch.randn(num_edges, feature_dim)\n",
    "    return hetero_data\n",
    "\n",
    "# 假设 hetero_data 是你构建好的异构图\n",
    "hetero_data = initialize_node_edge_features(hetero_data)\n",
    "\n",
    "# 检查每个节点类型的特征维度是否正确\n",
    "print(hetero_data)"
   ],
   "id": "bce9bdc7b75df763",
   "outputs": [
    {
     "name": "stdout",
     "output_type": "stream",
     "text": [
      "HeteroData(\n",
      "  Drug-Disease=[2, 61726],\n",
      "  Protein-Pathway=[2, 281950],\n",
      "  Protein-Disease=[2, 116699],\n",
      "  DDI=[2, 1419538],\n",
      "  Drug-Pathway=[2, 5114],\n",
      "  PPI=[2, 131406],\n",
      "  Drug-Protein=[2, 25994],\n",
      "  \u001B[1mDrug\u001B[0m={\n",
      "    num_nodes=9279,\n",
      "    x=[9279, 1024]\n",
      "  },\n",
      "  \u001B[1mDisease\u001B[0m={\n",
      "    num_nodes=5819,\n",
      "    x=[5819, 1024]\n",
      "  },\n",
      "  \u001B[1mPathway\u001B[0m={\n",
      "    num_nodes=15771,\n",
      "    x=[15771, 1024]\n",
      "  },\n",
      "  \u001B[1mProtein\u001B[0m={\n",
      "    num_nodes=62295,\n",
      "    x=[62295, 1024]\n",
      "  }\n",
      ")\n"
     ]
    }
   ],
   "execution_count": 10
  },
  {
   "metadata": {
    "ExecuteTime": {
     "end_time": "2024-09-18T07:42:51.026892Z",
     "start_time": "2024-09-18T07:42:48.947471Z"
    }
   },
   "cell_type": "code",
   "source": "torch.save(hetero_data, save_path)",
   "id": "e83a546fc908c9bd",
   "outputs": [],
   "execution_count": 11
  },
  {
   "metadata": {
    "ExecuteTime": {
     "end_time": "2024-09-18T08:52:26.596251Z",
     "start_time": "2024-09-18T08:52:26.588974Z"
    }
   },
   "cell_type": "code",
   "source": "hetero_data.edge_label_dict\n",
   "id": "4b9b14a08a893c63",
   "outputs": [
    {
     "data": {
      "text/plain": [
       "{('Drug', 'Drug-Protein', 'Protein'): tensor([0, 0, 0,  ..., 0, 0, 0]),\n",
       " ('Drug', 'DDI', 'Drug'): tensor([1, 1, 1,  ..., 1, 1, 1]),\n",
       " ('Protein', 'Protein-Pathway', 'Pathway'): tensor([2, 2, 2,  ..., 2, 2, 2]),\n",
       " ('Drug', 'Drug-Pathway', 'Pathway'): tensor([3, 3, 3,  ..., 3, 3, 3]),\n",
       " ('Protein', 'Protein-Disease', 'Disease'): tensor([4, 4, 4,  ..., 4, 4, 4]),\n",
       " ('Drug', 'Drug-Disease', 'Disease'): tensor([5, 5, 5,  ..., 5, 5, 5]),\n",
       " ('Protein', 'PPI', 'Protein'): tensor([6, 6, 6,  ..., 6, 6, 6])}"
      ]
     },
     "execution_count": 26,
     "metadata": {},
     "output_type": "execute_result"
    }
   ],
   "execution_count": 26
  }
 ],
 "metadata": {
  "kernelspec": {
   "display_name": "Python 3",
   "language": "python",
   "name": "python3"
  },
  "language_info": {
   "codemirror_mode": {
    "name": "ipython",
    "version": 2
   },
   "file_extension": ".py",
   "mimetype": "text/x-python",
   "name": "python",
   "nbconvert_exporter": "python",
   "pygments_lexer": "ipython2",
   "version": "2.7.6"
  }
 },
 "nbformat": 4,
 "nbformat_minor": 5
}
