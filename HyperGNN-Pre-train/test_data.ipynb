{
 "cells": [
  {
   "cell_type": "code",
   "id": "initial_id",
   "metadata": {
    "collapsed": true,
    "ExecuteTime": {
     "end_time": "2024-09-26T10:18:05.161721Z",
     "start_time": "2024-09-26T10:18:00.816035Z"
    }
   },
   "source": [
    "import torch\n",
    "save_path = '/data/zhaojingtong/pharmrgdata/hetero_graph.pt'\n",
    "# 假设 hetero_data 是你构建好的异构图对象\n",
    "hetero_data = torch.load(save_path)\n",
    "data = hetero_data\n",
    "data"
   ],
   "outputs": [
    {
     "data": {
      "text/plain": [
       "HeteroData(\n",
       "  \u001B[1mProtein\u001B[0m={\n",
       "    num_nodes=62295,\n",
       "    x=[62295, 128]\n",
       "  },\n",
       "  \u001B[1mDisease\u001B[0m={\n",
       "    num_nodes=5819,\n",
       "    x=[5819, 128]\n",
       "  },\n",
       "  \u001B[1mPathway\u001B[0m={\n",
       "    num_nodes=15771,\n",
       "    x=[15771, 128]\n",
       "  },\n",
       "  \u001B[1mDrug\u001B[0m={\n",
       "    num_nodes=9279,\n",
       "    x=[9279, 128]\n",
       "  },\n",
       "  \u001B[1m(Drug, Drug-Protein, Protein)\u001B[0m={\n",
       "    edge_index=[2, 25994],\n",
       "    edge_attr=[25994, 128],\n",
       "    edge_label=[25994]\n",
       "  },\n",
       "  \u001B[1m(Drug, DDI, Drug)\u001B[0m={\n",
       "    edge_index=[2, 1419538],\n",
       "    edge_attr=[1419538, 128],\n",
       "    edge_label=[1419538]\n",
       "  },\n",
       "  \u001B[1m(Protein, Protein-Pathway, Pathway)\u001B[0m={\n",
       "    edge_index=[2, 281950],\n",
       "    edge_attr=[281950, 128],\n",
       "    edge_label=[281950]\n",
       "  },\n",
       "  \u001B[1m(Drug, Drug-Pathway, Pathway)\u001B[0m={\n",
       "    edge_index=[2, 5114],\n",
       "    edge_attr=[5114, 128],\n",
       "    edge_label=[5114]\n",
       "  },\n",
       "  \u001B[1m(Protein, Protein-Disease, Disease)\u001B[0m={\n",
       "    edge_index=[2, 116699],\n",
       "    edge_attr=[116699, 128],\n",
       "    edge_label=[116699]\n",
       "  },\n",
       "  \u001B[1m(Drug, Drug-Disease, Disease)\u001B[0m={\n",
       "    edge_index=[2, 61726],\n",
       "    edge_attr=[61726, 128],\n",
       "    edge_label=[61726]\n",
       "  },\n",
       "  \u001B[1m(Protein, PPI, Protein)\u001B[0m={\n",
       "    edge_index=[2, 131406],\n",
       "    edge_attr=[131406, 128],\n",
       "    edge_label=[131406]\n",
       "  }\n",
       ")"
      ]
     },
     "execution_count": 5,
     "metadata": {},
     "output_type": "execute_result"
    }
   ],
   "execution_count": 5
  },
  {
   "metadata": {
    "ExecuteTime": {
     "end_time": "2024-09-25T06:26:45.637546Z",
     "start_time": "2024-09-25T06:25:44.197412Z"
    }
   },
   "cell_type": "code",
   "source": [
    "import torch\n",
    "import random\n",
    "\n",
    "def aug_random_edge_edge_index(edge_index, drop_percent=0.2):\n",
    "    edge_num = edge_index.shape[1]\n",
    "    percent = drop_percent / 2\n",
    "    add_drop_num = int(edge_num * percent)\n",
    "    \n",
    "    src_nodes = edge_index[0].unique().tolist()  # 获取唯一的源节点列表\n",
    "    dst_nodes = edge_index[1].unique().tolist()  # 获取唯一的目标节点列表\n",
    "    edge_list = edge_index.t().tolist()  # 转换为二维列表\n",
    "\n",
    "    drop_idx = random.sample(range(edge_num), add_drop_num)  # 随机选择要删除的边的索引\n",
    "    drop_idx = sorted(drop_idx,reverse=True)\n",
    "\n",
    "    # 删除选中的边\n",
    "    # edge_list = [edge_list[i] for i in range(edge_num) if i not in drop_idx]\n",
    "    for i in drop_idx:\n",
    "        edge_list.pop(i)\n",
    "\n",
    "    # 转换现有的边为集合，便于快速查找\n",
    "    existing_edges = set(map(tuple, edge_list))\n",
    "\n",
    "    # 优化：从源节点和目标节点中随机采样未存在的边\n",
    "    add_list = []\n",
    "    attempts = 0\n",
    "    max_attempts = 10 * add_drop_num  # 为防止死循环，设置最大尝试次数\n",
    "\n",
    "    while len(add_list) < add_drop_num and attempts < max_attempts:\n",
    "        src = random.choice(src_nodes)  # 随机选择一个源节点\n",
    "        dst = random.choice(dst_nodes)  # 随机选择一个目标节点\n",
    "        new_edge = (src, dst)\n",
    "        if new_edge not in existing_edges:\n",
    "            add_list.append(new_edge)\n",
    "            existing_edges.add(new_edge)  # 更新现有边集合\n",
    "        attempts += 1\n",
    "\n",
    "\n",
    "    \n",
    "    # 如果采样边数不足，可以通过再次采样或终止采样\n",
    "    if len(add_list) < add_drop_num:\n",
    "        print(f\"Warning: Only {len(add_list)} new edges were added out of {add_drop_num}.\")\n",
    "\n",
    "    # 增加新边\n",
    "    edge_list.extend(add_list)\n",
    "    augmented_edge_index = torch.tensor(edge_list).t()\n",
    "\n",
    "    return augmented_edge_index\n",
    "\n",
    "def aug_heterodata_random_edge_edge_index(hetero_data, drop_percent=0.2):\n",
    "    for key in hetero_data.edge_types:\n",
    "        print(key)\n",
    "        edge_index = hetero_data[key]['edge_index']\n",
    "        augmented_edge_index = aug_random_edge_edge_index(edge_index, drop_percent)\n",
    "        hetero_data[key]['edge_index'] = augmented_edge_index  # 更新增强后的边索引\n",
    "        \n",
    "\n",
    "    return hetero_data\n",
    "\n",
    "# 执行数据增强\n",
    "augmented_data = aug_heterodata_random_edge_edge_index(data, drop_percent=0.2)\n",
    "augmented_data"
   ],
   "id": "771b6417459fefcf",
   "outputs": [
    {
     "name": "stdout",
     "output_type": "stream",
     "text": [
      "('Drug', 'Drug-Protein', 'Protein')\n",
      "('Drug', 'DDI', 'Drug')\n",
      "('Protein', 'Protein-Pathway', 'Pathway')\n",
      "('Drug', 'Drug-Pathway', 'Pathway')\n",
      "('Protein', 'Protein-Disease', 'Disease')\n",
      "('Drug', 'Drug-Disease', 'Disease')\n",
      "('Protein', 'PPI', 'Protein')\n"
     ]
    },
    {
     "data": {
      "text/plain": [
       "HeteroData(\n",
       "  \u001B[1mDrug\u001B[0m={\n",
       "    num_nodes=9279,\n",
       "    x=[9279, 128]\n",
       "  },\n",
       "  \u001B[1mPathway\u001B[0m={\n",
       "    num_nodes=15771,\n",
       "    x=[15771, 128]\n",
       "  },\n",
       "  \u001B[1mDisease\u001B[0m={\n",
       "    num_nodes=5819,\n",
       "    x=[5819, 128]\n",
       "  },\n",
       "  \u001B[1mProtein\u001B[0m={\n",
       "    num_nodes=62295,\n",
       "    x=[62295, 128]\n",
       "  },\n",
       "  \u001B[1m(Drug, Drug-Protein, Protein)\u001B[0m={\n",
       "    edge_index=[2, 25994],\n",
       "    edge_attr=[25994, 128],\n",
       "    edge_label=[25994]\n",
       "  },\n",
       "  \u001B[1m(Drug, DDI, Drug)\u001B[0m={\n",
       "    edge_index=[2, 1419538],\n",
       "    edge_attr=[1419538, 128],\n",
       "    edge_label=[1419538]\n",
       "  },\n",
       "  \u001B[1m(Protein, Protein-Pathway, Pathway)\u001B[0m={\n",
       "    edge_index=[2, 281950],\n",
       "    edge_attr=[281950, 128],\n",
       "    edge_label=[281950]\n",
       "  },\n",
       "  \u001B[1m(Drug, Drug-Pathway, Pathway)\u001B[0m={\n",
       "    edge_index=[2, 5114],\n",
       "    edge_attr=[5114, 128],\n",
       "    edge_label=[5114]\n",
       "  },\n",
       "  \u001B[1m(Protein, Protein-Disease, Disease)\u001B[0m={\n",
       "    edge_index=[2, 116699],\n",
       "    edge_attr=[116699, 128],\n",
       "    edge_label=[116699]\n",
       "  },\n",
       "  \u001B[1m(Drug, Drug-Disease, Disease)\u001B[0m={\n",
       "    edge_index=[2, 61726],\n",
       "    edge_attr=[61726, 128],\n",
       "    edge_label=[61726]\n",
       "  },\n",
       "  \u001B[1m(Protein, PPI, Protein)\u001B[0m={\n",
       "    edge_index=[2, 131406],\n",
       "    edge_attr=[131406, 128],\n",
       "    edge_label=[131406]\n",
       "  }\n",
       ")"
      ]
     },
     "execution_count": 2,
     "metadata": {},
     "output_type": "execute_result"
    }
   ],
   "execution_count": 2
  },
  {
   "metadata": {
    "ExecuteTime": {
     "end_time": "2024-09-26T09:38:09.346950Z",
     "start_time": "2024-09-26T09:38:09.048665Z"
    }
   },
   "cell_type": "code",
   "source": [
    "import copy\n",
    "import numpy as np\n",
    "import scipy.sparse as sp\n",
    "def heterodata_preprocess_features(data):\n",
    "    hererodata_feature_dict = {}\n",
    "    input_feature_dict = data.x_dict\n",
    "    new_data = copy.deepcopy(data)\n",
    "    for node_type, input_feature in input_feature_dict.items():\n",
    "        rowsum = np.array(input_feature.sum(1))\n",
    "        r_inv = np.power(rowsum, -1).flatten()\n",
    "        r_inv[np.isinf(r_inv)] = 0.\n",
    "        r_mat_inv = sp.diags(r_inv)\n",
    "        input_feature = r_mat_inv.dot(input_feature)\n",
    "        \n",
    "        # 将掩码后的特征矩阵存入结果字典\n",
    "        hererodata_feature_dict[node_type] = torch.FloatTensor(input_feature)\n",
    "    new_data.x_dict = hererodata_feature_dict\n",
    "    return new_data\n",
    "\n",
    "\n",
    "process_feature_data = heterodata_preprocess_features(data)\n",
    "process_feature_data.x_dict"
   ],
   "id": "777bbd96d4f1b89d",
   "outputs": [
    {
     "data": {
      "text/plain": [
       "{'Drug': tensor([[ 0.1504,  0.0219,  0.0597,  ...,  0.0032,  0.0891,  0.0063],\n",
       "         [ 0.0464, -0.0057,  0.1756,  ...,  0.0716,  0.0532, -0.0034],\n",
       "         [-0.0058, -0.0561,  0.1004,  ..., -0.0296,  0.0905,  0.0509],\n",
       "         ...,\n",
       "         [ 0.0770,  0.4022,  0.0315,  ...,  0.1845,  0.1773,  0.1919],\n",
       "         [ 0.0167, -0.0062,  0.0023,  ..., -0.0013,  0.0711,  0.0111],\n",
       "         [-0.0199,  0.0525, -0.0748,  ..., -0.0165, -0.0857,  0.0126]]),\n",
       " 'Pathway': tensor([[ 0.1529,  0.0295,  0.0199,  ...,  0.0375, -0.1480, -0.0692],\n",
       "         [ 0.8021,  0.1237,  0.3116,  ..., -0.0532, -0.4990,  0.6141],\n",
       "         [-0.1014,  0.2611, -0.0782,  ...,  0.0792,  0.1860, -0.1026],\n",
       "         ...,\n",
       "         [ 0.0705, -0.0023,  0.0123,  ...,  0.0750,  0.1089,  0.0450],\n",
       "         [-0.0696,  0.1560,  0.0980,  ...,  0.1372, -0.2728,  0.2591],\n",
       "         [ 0.0072, -0.0878, -0.0324,  ...,  0.0475, -0.0331,  0.0123]]),\n",
       " 'Disease': tensor([[ 0.0646,  0.0476,  0.0480,  ..., -0.0353,  0.0163,  0.0477],\n",
       "         [-0.0053,  0.1126, -0.1602,  ..., -0.1869, -0.1901, -0.2739],\n",
       "         [-0.0163, -0.2021, -0.0650,  ..., -0.0253, -0.0026,  0.0392],\n",
       "         ...,\n",
       "         [-0.1704,  0.6088,  0.1240,  ...,  0.2267,  0.6653,  0.5324],\n",
       "         [-0.1048, -0.0767, -0.0026,  ...,  0.1243,  0.2315, -0.0298],\n",
       "         [ 0.0780, -0.1254,  0.1708,  ..., -0.0943,  0.3104, -0.2335]]),\n",
       " 'Protein': tensor([[ 0.0617,  0.0980, -0.1175,  ..., -0.1980, -0.0778,  0.0846],\n",
       "         [ 0.0189, -0.0028, -0.0014,  ...,  0.0011, -0.0400,  0.0378],\n",
       "         [-0.0134,  0.0493, -0.1206,  ..., -0.0841,  0.0280,  0.0222],\n",
       "         ...,\n",
       "         [ 0.2030, -0.1521,  0.0849,  ..., -0.0706, -0.5039, -0.4982],\n",
       "         [ 0.0178,  0.3351, -0.0881,  ..., -0.1679, -0.0766, -0.1113],\n",
       "         [-0.2284,  0.0938,  0.1551,  ..., -0.1771, -0.1253, -0.0784]])}"
      ]
     },
     "execution_count": 2,
     "metadata": {},
     "output_type": "execute_result"
    }
   ],
   "execution_count": 2
  },
  {
   "metadata": {
    "ExecuteTime": {
     "end_time": "2024-09-25T07:14:45.663800Z",
     "start_time": "2024-09-25T07:14:45.655752Z"
    }
   },
   "cell_type": "code",
   "source": [
    "import torch\n",
    "import copy\n",
    "import random\n",
    "\n",
    "def aug_heterodata_random_mask(data, drop_percent=0.2):\n",
    "    aug_feature_dict = {}\n",
    "    input_feature_dict = data.x_dict\n",
    "    new_data = copy.deepcopy(data)\n",
    "    for node_type, input_feature in input_feature_dict.items():\n",
    "        node_num = input_feature.shape[1]  # 获取当前节点类型的节点数\n",
    "        mask_num = int(node_num * drop_percent)\n",
    "        node_idx = [i for i in range(node_num)]\n",
    "        mask_idx = random.sample(node_idx, mask_num)  # 随机选择掩码节点\n",
    "        input_feature = input_feature.unsqueeze(0)\n",
    "        # 深拷贝当前节点类型的特征\n",
    "        aug_feature = copy.deepcopy(input_feature)\n",
    "        \n",
    "        # 生成全零向量，与节点特征的维度一致\n",
    "        zeros = torch.zeros_like(aug_feature[0][0])\n",
    "        \n",
    "        # 进行掩码操作\n",
    "        for j in mask_idx:\n",
    "            aug_feature[0][j] = zeros\n",
    "        \n",
    "        # 将掩码后的特征矩阵存入结果字典\n",
    "        aug_feature_dict[node_type] = aug_feature\n",
    "    new_data.x_dict = aug_feature_dict\n",
    "    return new_data\n"
   ],
   "id": "8fc83c2c21284a4b",
   "outputs": [],
   "execution_count": 26
  },
  {
   "metadata": {
    "ExecuteTime": {
     "end_time": "2024-09-25T07:14:46.124895Z",
     "start_time": "2024-09-25T07:14:46.114485Z"
    }
   },
   "cell_type": "code",
   "source": "data.x_dict",
   "id": "663c739e445a8415",
   "outputs": [
    {
     "data": {
      "text/plain": [
       "{'Drug': tensor([[-1.5799, -0.2302, -0.6271,  ..., -0.0334, -0.9360, -0.0659],\n",
       "         [ 0.3712, -0.0454,  1.4050,  ...,  0.5732,  0.4253, -0.0274],\n",
       "         [-0.0781, -0.7583,  1.3575,  ..., -0.3998,  1.2230,  0.6880],\n",
       "         ...,\n",
       "         [-0.5286, -2.7615, -0.2162,  ..., -1.2668, -1.2173, -1.3172],\n",
       "         [ 0.3995, -0.1491,  0.0561,  ..., -0.0322,  1.7017,  0.2655],\n",
       "         [ 0.5760, -1.5194,  2.1641,  ...,  0.4785,  2.4810, -0.3658]]),\n",
       " 'Pathway': tensor([[ 2.1880,  0.4213,  0.2848,  ...,  0.5361, -2.1169, -0.9894],\n",
       "         [-1.4259, -0.2198, -0.5540,  ...,  0.0946,  0.8871, -1.0916],\n",
       "         [-0.7687,  1.9800, -0.5931,  ...,  0.6007,  1.4102, -0.7782],\n",
       "         ...,\n",
       "         [-1.6508,  0.0529, -0.2870,  ..., -1.7571, -2.5521, -1.0535],\n",
       "         [ 0.3769, -0.8440, -0.5302,  ..., -0.7426,  1.4763, -1.4021],\n",
       "         [ 0.0892, -1.0831, -0.3995,  ...,  0.5859, -0.4080,  0.1513]]),\n",
       " 'Disease': tensor([[-1.3973, -1.0292, -1.0393,  ...,  0.7628, -0.3516, -1.0327],\n",
       "         [ 0.0257, -0.5490,  0.7812,  ...,  0.9113,  0.9271,  1.3356],\n",
       "         [ 0.1668,  2.0669,  0.6649,  ...,  0.2591,  0.0263, -0.4007],\n",
       "         ...,\n",
       "         [-0.4046,  1.4450,  0.2943,  ...,  0.5381,  1.5792,  1.2637],\n",
       "         [ 0.5370,  0.3928,  0.0133,  ..., -0.6366, -1.1859,  0.1526],\n",
       "         [ 0.3714, -0.5969,  0.8133,  ..., -0.4491,  1.4779, -1.1117]]),\n",
       " 'Protein': tensor([[ 0.3579,  0.5687, -0.6818,  ..., -1.1484, -0.4514,  0.4906],\n",
       "         [ 0.3000, -0.0438, -0.0225,  ...,  0.0177, -0.6338,  0.5987],\n",
       "         [-0.1130,  0.4173, -1.0206,  ..., -0.7121,  0.2369,  0.1881],\n",
       "         ...,\n",
       "         [ 0.6772, -0.5075,  0.2831,  ..., -0.2356, -1.6808, -1.6618],\n",
       "         [ 0.0812,  1.5292, -0.4021,  ..., -0.7661, -0.3494, -0.5076],\n",
       "         [ 1.9136, -0.7863, -1.2997,  ...,  1.4839,  1.0500,  0.6568]])}"
      ]
     },
     "execution_count": 27,
     "metadata": {},
     "output_type": "execute_result"
    }
   ],
   "execution_count": 27
  },
  {
   "metadata": {
    "ExecuteTime": {
     "end_time": "2024-09-25T07:14:55.790890Z",
     "start_time": "2024-09-25T07:14:55.498657Z"
    }
   },
   "cell_type": "code",
   "source": [
    "aug_feature1 = aug_heterodata_random_mask(data,drop_percent=0.9)\n",
    "aug_feature1.x_dict"
   ],
   "id": "728a52d37423cd8b",
   "outputs": [
    {
     "data": {
      "text/plain": [
       "{'Drug': tensor([[[ 0.0000,  0.0000,  0.0000,  ...,  0.0000,  0.0000,  0.0000],\n",
       "          [ 0.0000,  0.0000,  0.0000,  ...,  0.0000,  0.0000,  0.0000],\n",
       "          [ 0.0000,  0.0000,  0.0000,  ...,  0.0000,  0.0000,  0.0000],\n",
       "          ...,\n",
       "          [-0.5286, -2.7615, -0.2162,  ..., -1.2668, -1.2173, -1.3172],\n",
       "          [ 0.3995, -0.1491,  0.0561,  ..., -0.0322,  1.7017,  0.2655],\n",
       "          [ 0.5760, -1.5194,  2.1641,  ...,  0.4785,  2.4810, -0.3658]]]),\n",
       " 'Pathway': tensor([[[ 0.0000,  0.0000,  0.0000,  ...,  0.0000,  0.0000,  0.0000],\n",
       "          [ 0.0000,  0.0000,  0.0000,  ...,  0.0000,  0.0000,  0.0000],\n",
       "          [ 0.0000,  0.0000,  0.0000,  ...,  0.0000,  0.0000,  0.0000],\n",
       "          ...,\n",
       "          [-1.6508,  0.0529, -0.2870,  ..., -1.7571, -2.5521, -1.0535],\n",
       "          [ 0.3769, -0.8440, -0.5302,  ..., -0.7426,  1.4763, -1.4021],\n",
       "          [ 0.0892, -1.0831, -0.3995,  ...,  0.5859, -0.4080,  0.1513]]]),\n",
       " 'Disease': tensor([[[ 0.0000,  0.0000,  0.0000,  ...,  0.0000,  0.0000,  0.0000],\n",
       "          [ 0.0000,  0.0000,  0.0000,  ...,  0.0000,  0.0000,  0.0000],\n",
       "          [ 0.0000,  0.0000,  0.0000,  ...,  0.0000,  0.0000,  0.0000],\n",
       "          ...,\n",
       "          [-0.4046,  1.4450,  0.2943,  ...,  0.5381,  1.5792,  1.2637],\n",
       "          [ 0.5370,  0.3928,  0.0133,  ..., -0.6366, -1.1859,  0.1526],\n",
       "          [ 0.3714, -0.5969,  0.8133,  ..., -0.4491,  1.4779, -1.1117]]]),\n",
       " 'Protein': tensor([[[ 0.0000,  0.0000,  0.0000,  ...,  0.0000,  0.0000,  0.0000],\n",
       "          [ 0.0000,  0.0000,  0.0000,  ...,  0.0000,  0.0000,  0.0000],\n",
       "          [ 0.0000,  0.0000,  0.0000,  ...,  0.0000,  0.0000,  0.0000],\n",
       "          ...,\n",
       "          [ 0.6772, -0.5075,  0.2831,  ..., -0.2356, -1.6808, -1.6618],\n",
       "          [ 0.0812,  1.5292, -0.4021,  ..., -0.7661, -0.3494, -0.5076],\n",
       "          [ 1.9136, -0.7863, -1.2997,  ...,  1.4839,  1.0500,  0.6568]]])}"
      ]
     },
     "execution_count": 29,
     "metadata": {},
     "output_type": "execute_result"
    }
   ],
   "execution_count": 29
  },
  {
   "metadata": {},
   "cell_type": "code",
   "outputs": [],
   "execution_count": null,
   "source": "",
   "id": "85a8df5231ba4b93"
  },
  {
   "metadata": {
    "ExecuteTime": {
     "end_time": "2024-09-26T10:18:12.995966Z",
     "start_time": "2024-09-26T10:18:11.853652Z"
    }
   },
   "cell_type": "code",
   "source": [
    "import torch\n",
    "import numpy as np\n",
    "import random\n",
    "from torch_geometric.nn import HeteroConv, GCNConv, SAGEConv, GATConv, RGCNConv\n",
    "from torch_geometric.data import HeteroData\n",
    "from layers import GCN, AvgReadout \n",
    "# 设置随机种子以保证可复现性\n",
    "def set_seed(seed):\n",
    "    torch.manual_seed(seed)  # 设置PyTorch的随机种子\n",
    "    np.random.seed(seed)     # 设置NumPy的随机种子\n",
    "    random.seed(seed)        # 设置Python的随机种子\n",
    "    if torch.cuda.is_available():\n",
    "        torch.cuda.manual_seed(seed)  # 设置CUDA的随机种子\n",
    "        torch.cuda.manual_seed_all(seed)\n",
    "    torch.backends.cudnn.deterministic = True  # 保证每次卷积计算结果一致\n",
    "    torch.backends.cudnn.benchmark = False     # 禁用CUDNN自动优化，保证结果一致\n",
    "\n",
    "# 设置种子\n",
    "set_seed(42)\n",
    "hetero_conv = HeteroConv({\n",
    "    ('Drug', 'Drug-Protein', 'Protein'): GATConv((-1,-1), 8,add_self_loops=False),\n",
    "    ('Drug', 'DDI', 'Drug'): SAGEConv((-1, -1), 8,add_self_loops=False),\n",
    "    ('Protein', 'Protein-Pathway', 'Pathway'): GATConv((-1, -1), 8,add_self_loops=False),\n",
    "    ('Drug', 'Drug-Pathway', 'Pathway'):GATConv((-1, -1), 8,add_self_loops=False),\n",
    "    ('Protein', 'Protein-Disease', 'Disease'):GATConv((-1, -1), 8,add_self_loops=False),\n",
    "    ('Protein', 'PPI', 'Protein'):GATConv((-1, -1), 8,add_self_loops=False),\n",
    "    ('Drug', 'Drug-Disease', 'Disease'):GATConv((-1, -1), 8,add_self_loops=False)\n",
    "}, aggr='sum')\n",
    "# Ensure that data.x_dict is available and contains the node features\n",
    "\n",
    "out = hetero_conv(data.x_dict,data.edge_index_dict)\n",
    "print(out)"
   ],
   "id": "47305acc4cd75113",
   "outputs": [
    {
     "name": "stdout",
     "output_type": "stream",
     "text": [
      "defaultdict(<class 'list'>, {'Protein': tensor([[ 3.0563, -0.6334, -0.4554,  ..., -0.6886,  0.6381,  1.3322],\n",
      "        [-0.9938,  1.3988, -0.8841,  ...,  0.2894,  0.6098,  0.6078],\n",
      "        [ 0.2261, -0.0468,  0.6282,  ..., -1.2509,  0.2560,  0.5871],\n",
      "        ...,\n",
      "        [ 0.0083,  0.1923, -0.1373,  ..., -0.8041,  0.1730,  1.2379],\n",
      "        [ 2.0125,  0.7516, -1.5695,  ..., -1.7745,  1.0601, -0.5281],\n",
      "        [ 0.1774, -1.0672,  0.4343,  ...,  1.7720,  0.4198, -1.6798]],\n",
      "       grad_fn=<SumBackward1>), 'Drug': tensor([[-0.2535,  0.1135,  1.1522,  ...,  0.3727,  0.3809,  0.0145],\n",
      "        [-0.1394,  0.9026, -0.4468,  ...,  0.5326, -0.2357, -0.8338],\n",
      "        [ 0.2158, -0.4886,  0.3527,  ..., -1.1602, -0.6388, -0.5690],\n",
      "        ...,\n",
      "        [-0.7983, -0.5847,  0.7673,  ..., -0.3104,  0.3760,  0.4161],\n",
      "        [ 0.1296,  0.3447, -0.9729,  ...,  0.7852,  0.1588,  0.2169],\n",
      "        [-0.8563, -0.0421,  0.6167,  ...,  0.1104, -0.5018,  0.3748]],\n",
      "       grad_fn=<AddBackward0>), 'Pathway': tensor([[ 0.7983,  0.5660, -0.6918,  ..., -0.3940, -1.2977,  1.0055],\n",
      "        [ 0.9657, -0.0352,  0.1459,  ...,  0.3437, -1.6321,  1.1538],\n",
      "        [ 0.9722,  0.0581, -0.6756,  ...,  0.2887, -1.3089,  1.2412],\n",
      "        ...,\n",
      "        [ 0.9274,  0.1528,  0.2585,  ..., -1.2978,  3.0131, -0.6827],\n",
      "        [ 1.4022, -1.8930,  0.9018,  ..., -0.4948, -0.6554,  1.1204],\n",
      "        [ 3.3156, -2.8854,  0.7834,  ..., -1.5695,  0.5530, -0.4557]],\n",
      "       grad_fn=<SumBackward1>), 'Disease': tensor([[-0.1012, -1.2197,  0.0780,  ...,  0.2776,  1.1346, -0.1734],\n",
      "        [ 0.6532, -0.8580, -0.7138,  ...,  0.1425,  0.8125,  0.7588],\n",
      "        [ 0.6090, -0.2232, -0.4633,  ...,  0.1424,  0.7897,  0.0019],\n",
      "        ...,\n",
      "        [-0.0450, -0.9476, -1.7048,  ..., -0.2294,  0.1451, -0.1967],\n",
      "        [ 0.0104, -0.2084, -0.0311,  ...,  1.1086,  0.4995, -1.0313],\n",
      "        [-1.1204,  0.6254,  0.4148,  ...,  1.1496,  0.6027, -1.1431]],\n",
      "       grad_fn=<SumBackward1>)})\n"
     ]
    }
   ],
   "execution_count": 6
  },
  {
   "metadata": {
    "ExecuteTime": {
     "end_time": "2024-09-22T13:00:38.385776Z",
     "start_time": "2024-09-22T13:00:38.376799Z"
    }
   },
   "cell_type": "code",
   "source": "data.edge_index_dict",
   "id": "50a484cc6a87929f",
   "outputs": [
    {
     "data": {
      "text/plain": [
       "{('Drug',\n",
       "  'Drug-Protein',\n",
       "  'Protein'): tensor([[   0,    1,    2,  ..., 3332, 1964, 1876],\n",
       "         [   0,    1,    2,  ..., 1486,   68,  325]]),\n",
       " ('Drug',\n",
       "  'DDI',\n",
       "  'Drug'): tensor([[1743, 4885, 6658,  ...,   96, 2308,  463],\n",
       "         [7046, 6883, 4212,  ..., 5425, 6809, 4086]]),\n",
       " ('Protein',\n",
       "  'Protein-Pathway',\n",
       "  'Pathway'): tensor([[ 3548,  3549,  3550,  ...,  2159, 11722, 19631],\n",
       "         [    0,     1,     2,  ...,   574,  2338,  1915]]),\n",
       " ('Drug',\n",
       "  'Drug-Pathway',\n",
       "  'Pathway'): tensor([[ 1156,     8,  7025,  ...,  5093,   215,  3135],\n",
       "         [ 6474, 15639, 15640,  ...,  7153, 10742, 15686]]),\n",
       " ('Protein',\n",
       "  'Protein-Disease',\n",
       "  'Disease'): tensor([[18425,  8491, 17289,  ...,  2746,   449, 12560],\n",
       "         [    0,     1,     2,  ...,  2601,   226,    12]]),\n",
       " ('Drug',\n",
       "  'Drug-Disease',\n",
       "  'Disease'): tensor([[2520, 6597, 4078,  ..., 3054, 4462, 3508],\n",
       "         [ 302,  109, 4577,  ...,  175, 4916,  869]]),\n",
       " ('Protein',\n",
       "  'PPI',\n",
       "  'Protein'): tensor([[19685,  9222, 54090,  ...,  1673, 18884, 32574],\n",
       "         [54089, 49225, 54091,  ..., 52682, 21671, 32574]])}"
      ]
     },
     "execution_count": 5,
     "metadata": {},
     "output_type": "execute_result"
    }
   ],
   "execution_count": 5
  }
 ],
 "metadata": {
  "kernelspec": {
   "display_name": "Python 3",
   "language": "python",
   "name": "python3"
  },
  "language_info": {
   "codemirror_mode": {
    "name": "ipython",
    "version": 2
   },
   "file_extension": ".py",
   "mimetype": "text/x-python",
   "name": "python",
   "nbconvert_exporter": "python",
   "pygments_lexer": "ipython2",
   "version": "2.7.6"
  }
 },
 "nbformat": 4,
 "nbformat_minor": 5
}
