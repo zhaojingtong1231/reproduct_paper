{
 "cells": [
  {
   "cell_type": "code",
   "id": "initial_id",
   "metadata": {
    "collapsed": true,
    "ExecuteTime": {
     "end_time": "2025-05-12T11:41:59.097441Z",
     "start_time": "2025-05-12T11:41:58.738731Z"
    }
   },
   "source": [
    "import pandas as pd\n",
    "\n",
    "def extract_and_save_txt(input_csv_path, output_txt_path):\n",
    "    \"\"\"\n",
    "    从 CSV 中提取 x_idx、relation、y_idx 三列，并保存为制表符分隔的 TXT 文件。\n",
    "\n",
    "    参数：\n",
    "        input_csv_path (str): 输入 CSV 文件路径\n",
    "        output_txt_path (str): 输出 TXT 文件路径\n",
    "    \"\"\"\n",
    "    # 读取 CSV 文件\n",
    "    df = pd.read_csv(input_csv_path)\n",
    "\n",
    "    # 提取指定列\n",
    "    selected = df[['x_idx', 'relation', 'y_idx']]\n",
    "\n",
    "    # 保存为 .txt 文件，使用制表符分隔\n",
    "    selected.to_csv(output_txt_path, sep='\\t', index=False, header=False)\n"
   ],
   "outputs": [],
   "execution_count": 1
  },
  {
   "metadata": {
    "ExecuteTime": {
     "end_time": "2025-05-12T11:42:29.777750Z",
     "start_time": "2025-05-12T11:41:59.112592Z"
    }
   },
   "cell_type": "code",
   "source": "extract_and_save_txt('PrimeKG/train.csv', 'PrimeKG/train.txt')\n",
   "id": "b943d882f7f984a9",
   "outputs": [
    {
     "name": "stderr",
     "output_type": "stream",
     "text": [
      "/tmp/ipykernel_12123/1744368940.py:12: DtypeWarning: Columns (1,4) have mixed types. Specify dtype option on import or set low_memory=False.\n",
      "  df = pd.read_csv(input_csv_path)\n"
     ]
    }
   ],
   "execution_count": 2
  },
  {
   "metadata": {
    "ExecuteTime": {
     "end_time": "2025-05-12T11:42:31.705197Z",
     "start_time": "2025-05-12T11:42:29.855043Z"
    }
   },
   "cell_type": "code",
   "source": [
    "extract_and_save_txt('PrimeKG/test.csv', 'PrimeKG/test.txt')\n",
    "# extract_and_save_txt('PrimeKG/valid.csv', 'PrimeKG/valid.txt')\n"
   ],
   "id": "d9235618c26c2f52",
   "outputs": [
    {
     "name": "stderr",
     "output_type": "stream",
     "text": [
      "/tmp/ipykernel_12123/1744368940.py:12: DtypeWarning: Columns (1,4) have mixed types. Specify dtype option on import or set low_memory=False.\n",
      "  df = pd.read_csv(input_csv_path)\n"
     ]
    }
   ],
   "execution_count": 3
  },
  {
   "metadata": {
    "ExecuteTime": {
     "end_time": "2025-05-12T11:42:35.994675Z",
     "start_time": "2025-05-12T11:42:31.720726Z"
    }
   },
   "cell_type": "code",
   "source": "extract_and_save_txt('PrimeKG/valid.csv', 'PrimeKG/valid.txt')",
   "id": "cf8a54bacf3c545d",
   "outputs": [
    {
     "name": "stderr",
     "output_type": "stream",
     "text": [
      "/tmp/ipykernel_12123/1744368940.py:12: DtypeWarning: Columns (1,4) have mixed types. Specify dtype option on import or set low_memory=False.\n",
      "  df = pd.read_csv(input_csv_path)\n"
     ]
    }
   ],
   "execution_count": 4
  },
  {
   "metadata": {},
   "cell_type": "code",
   "outputs": [],
   "execution_count": null,
   "source": "",
   "id": "7be58d0bc3dca8b2"
  }
 ],
 "metadata": {
  "kernelspec": {
   "display_name": "Python 3",
   "language": "python",
   "name": "python3"
  },
  "language_info": {
   "codemirror_mode": {
    "name": "ipython",
    "version": 2
   },
   "file_extension": ".py",
   "mimetype": "text/x-python",
   "name": "python",
   "nbconvert_exporter": "python",
   "pygments_lexer": "ipython2",
   "version": "2.7.6"
  }
 },
 "nbformat": 4,
 "nbformat_minor": 5
}
