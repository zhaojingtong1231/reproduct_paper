{
 "cells": [
  {
   "cell_type": "code",
   "execution_count": 1,
   "id": "initial_id",
   "metadata": {
    "collapsed": true,
    "ExecuteTime": {
     "end_time": "2024-04-16T09:59:16.933463200Z",
     "start_time": "2024-04-16T09:59:16.793287500Z"
    }
   },
   "outputs": [],
   "source": [
    "import pickle"
   ]
  },
  {
   "cell_type": "code",
   "execution_count": 34,
   "outputs": [
    {
     "name": "stdout",
     "output_type": "stream",
     "text": [
      "(66123, 44)\n",
      "<class 'tuple'>\n",
      "[22073, 33641, 35227, 36178, 48670, 61973, 62630, 65968, 81472, 81594, 83280, 83501]\n",
      "(66123, 62)\n",
      "<class 'tuple'>\n",
      "[15341, 36370, 44466, 44600, 50240, 50553, 52768, 53166, 60315, 60644, 66026, 66155, 66622, 69607, 79736, 82174, 82251, 83088, 83280, 83634, 83765, 83773, 84940]\n",
      "(66123, 43)\n",
      "<class 'tuple'>\n",
      "[2185, 5555, 7131, 8302, 8654, 9896, 9903, 12614, 12668, 12724, 14064, 14705, 14707, 16359, 21129, 23561, 24443, 27556, 28584, 35935, 37657, 38803, 41103, 47312, 47911, 52501, 55592, 57157, 58071, 64273, 64670, 65558, 68824, 71257, 72522, 72990, 73019, 74070, 78424]\n",
      "(66123, 61)\n",
      "<class 'tuple'>\n",
      "[5549, 27921, 47973, 58600, 72949, 72985, 74856, 77834, 82630]\n",
      "(66123, 51)\n",
      "<class 'tuple'>\n",
      "[5454, 5923, 10308, 13380, 14920, 21022, 48588, 63713, 66145, 77431, 82200]\n",
      "(66123, 39)\n",
      "<class 'tuple'>\n",
      "[8048, 10324, 12103, 13151, 13154, 13160, 13162, 15425, 20731, 41587, 43466, 44185, 56249, 64611, 66025, 66110, 66123, 71474, 71818, 72629, 73967, 74211, 75049, 76867, 83343, 83773, 85041, 85180, 85303, 87890, 88227]\n",
      "(66123, 53)\n",
      "<class 'tuple'>\n",
      "[2679, 9928, 20197, 20693, 43279, 60995, 63852, 76101, 77521, 80451, 81728]\n",
      "(66123, 57)\n",
      "<class 'tuple'>\n",
      "[6735, 8419, 43007, 58143, 85348, 85436, 86413]\n",
      "(66123, 50)\n",
      "<class 'tuple'>\n",
      "[15408, 69052]\n",
      "(66123, 69)\n",
      "<class 'tuple'>\n",
      "[33924, 33928, 58255, 63972, 66944, 67199]\n",
      "(66123, 37)\n",
      "<class 'tuple'>\n",
      "[66455]\n",
      "(66123, 58)\n",
      "<class 'tuple'>\n",
      "[12379, 23415, 61467, 70160, 70295, 85144, 88588]\n",
      "(66123, 70)\n",
      "<class 'tuple'>\n",
      "[88045]\n",
      "(66123, 45)\n",
      "<class 'tuple'>\n",
      "[18191, 43264]\n"
     ]
    }
   ],
   "source": [
    "import pickle\n",
    "\n",
    "# 读取pickle文件\n",
    "with open('./data/PharmKG/to_skip.pickle', 'rb') as f:  # 以二进制读取模式打开文件\n",
    "    data = pickle.load(f)\n",
    "    \n",
    "\n",
    "# 打印读取的数据\n",
    "for i in data['lhs']:\n",
    "    if i[0]== 66123:\n",
    "        print(i)\n",
    "        print(type(i))\n",
    "        print(data['lhs'][i])\n"
   ],
   "metadata": {
    "collapsed": false,
    "ExecuteTime": {
     "end_time": "2024-04-16T10:44:33.631674200Z",
     "start_time": "2024-04-16T10:44:31.977216700Z"
    }
   },
   "id": "128329f2ab2f55e5"
  },
  {
   "cell_type": "code",
   "execution_count": 36,
   "outputs": [
    {
     "data": {
      "text/plain": "[12379, 23415, 61467, 70160, 70295, 85144, 88588]"
     },
     "execution_count": 36,
     "metadata": {},
     "output_type": "execute_result"
    }
   ],
   "source": [
    "data['lhs'][(66123, 58)]"
   ],
   "metadata": {
    "collapsed": false,
    "ExecuteTime": {
     "end_time": "2024-04-16T10:46:37.565718Z",
     "start_time": "2024-04-16T10:46:37.542167300Z"
    }
   },
   "id": "d8a1d5b9e6ff67e4"
  },
  {
   "cell_type": "code",
   "execution_count": null,
   "outputs": [],
   "source": [],
   "metadata": {
    "collapsed": false
   },
   "id": "fb3cb9474a7cd87b"
  }
 ],
 "metadata": {
  "kernelspec": {
   "display_name": "Python 3",
   "language": "python",
   "name": "python3"
  },
  "language_info": {
   "codemirror_mode": {
    "name": "ipython",
    "version": 2
   },
   "file_extension": ".py",
   "mimetype": "text/x-python",
   "name": "python",
   "nbconvert_exporter": "python",
   "pygments_lexer": "ipython2",
   "version": "2.7.6"
  }
 },
 "nbformat": 4,
 "nbformat_minor": 5
}
