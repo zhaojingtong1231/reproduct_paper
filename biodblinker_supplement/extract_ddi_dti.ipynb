{
 "cells": [
  {
   "cell_type": "code",
   "id": "initial_id",
   "metadata": {
    "collapsed": true,
    "jupyter": {
     "is_executing": true
    },
    "ExecuteTime": {
     "start_time": "2024-08-21T07:46:22.995631Z"
    }
   },
   "source": [
    "import pandas as pd\n",
    "\n",
    "# Define the file path\n",
    "file_path = '/project/reproduct_paper/biodata/data/preprocessed/drugbank/db_ddi.txt'\n",
    "\n",
    "# Read the file with tab-separated values into a pandas DataFrame\n",
    "df = pd.read_csv(file_path, sep='\\t',header=None)\n",
    "\n",
    "# Display the first few rows of the DataFrame\n",
    "df = df[[2, 3, 0]]\n",
    "\n",
    "# Add new column names\n",
    "# df.columns = ['head', 'relation', 'tail']\n",
    "\n",
    "# Display the DataFrame\n",
    "# Remove duplicate rows from the DataFrame\n",
    "df_unique = df.drop_duplicates()\n",
    "\n",
    "# Display the DataFrame after removing duplicates\n",
    "df_unique.head()\n",
    "\n",
    "output_path = './ddi.csv'\n",
    "df.shape\n",
    "df.to_csv(output_path, sep='\\t', index=False)"
   ],
   "outputs": [],
   "execution_count": null
  },
  {
   "metadata": {
    "ExecuteTime": {
     "end_time": "2024-08-21T07:10:38.946628Z",
     "start_time": "2024-08-21T07:10:38.758643Z"
    }
   },
   "cell_type": "code",
   "source": "df['relation'].drop_duplicates().shape",
   "id": "b82e01297f179e76",
   "outputs": [
    {
     "data": {
      "text/plain": [
       "(216,)"
      ]
     },
     "execution_count": 24,
     "metadata": {},
     "output_type": "execute_result"
    }
   ],
   "execution_count": 24
  },
  {
   "metadata": {
    "ExecuteTime": {
     "end_time": "2024-08-21T07:08:14.035161Z",
     "start_time": "2024-08-21T07:08:13.440327Z"
    }
   },
   "cell_type": "code",
   "source": [
    "# 合并两列\n",
    "merged = pd.concat([df['head'], df['tail']],axis=0)\n",
    "merged.shape\n",
    "# # 去重\n",
    "unique_values = merged.drop_duplicates().reset_index(drop=True)\n",
    "# \n",
    "print(unique_values.shape)"
   ],
   "id": "eefe43297eb19fd",
   "outputs": [
    {
     "name": "stdout",
     "output_type": "stream",
     "text": [
      "(4533,)\n"
     ]
    }
   ],
   "execution_count": 21
  },
  {
   "metadata": {
    "ExecuteTime": {
     "end_time": "2024-08-21T07:10:49.607Z",
     "start_time": "2024-08-21T07:10:49.475908Z"
    }
   },
   "cell_type": "code",
   "source": [
    "import pandas as pd\n",
    "\n",
    "# Define the file path\n",
    "file_path = '/project/reproduct_paper/biodata/data/preprocessed/drugbank/db_targets.txt'\n",
    "\n",
    "# Read the file with tab-separated values into a pandas DataFrame\n",
    "df = pd.read_csv(file_path, sep='\\t',header=None)\n",
    "\n",
    "# Display the first few rows of the DataFrame\n",
    "df = df[[0,3,2]]\n",
    "\n",
    "# Add new column names\n",
    "df.columns = ['head', 'relation', 'tail']\n",
    "\n",
    "# Display the DataFrame\n",
    "df.head()\n",
    "output_path = './dti.csv'\n",
    "# df.to_csv(output_path, sep='\\t', index=False)\n",
    "df.shape\n",
    "df['relation'].drop_duplicates().shape"
   ],
   "id": "1db811187bf2a4f",
   "outputs": [
    {
     "data": {
      "text/plain": [
       "(52,)"
      ]
     },
     "execution_count": 25,
     "metadata": {},
     "output_type": "execute_result"
    }
   ],
   "execution_count": 25
  },
  {
   "metadata": {},
   "cell_type": "code",
   "outputs": [],
   "execution_count": null,
   "source": "",
   "id": "1b0d1789ea6d318e"
  }
 ],
 "metadata": {
  "kernelspec": {
   "display_name": "Python 3",
   "language": "python",
   "name": "python3"
  },
  "language_info": {
   "codemirror_mode": {
    "name": "ipython",
    "version": 2
   },
   "file_extension": ".py",
   "mimetype": "text/x-python",
   "name": "python",
   "nbconvert_exporter": "python",
   "pygments_lexer": "ipython2",
   "version": "2.7.6"
  }
 },
 "nbformat": 4,
 "nbformat_minor": 5
}
