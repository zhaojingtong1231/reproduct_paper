{
 "cells": [
  {
   "cell_type": "code",
   "id": "initial_id",
   "metadata": {
    "collapsed": true,
    "ExecuteTime": {
     "end_time": "2024-07-31T11:44:01.567647Z",
     "start_time": "2024-07-31T11:44:01.145860Z"
    }
   },
   "source": [
    "import gzip\n",
    "import pandas as pd\n",
    "\n",
    "source_id = 2\n",
    "target_ids = [31, 14,  3, 17, 47, 37]\n",
    "id_name_map = {31: 'bindingdb', 14: 'faers', 3: 'pdb', 17: 'pharmgkb', 47: 'rxnorm', 37: 'brenda'}\n",
    "\n",
    "filename_template = \"drugbank_to_{db_name}.txt.gz\"\n",
    "# 生成URL列表\n",
    "filenames = [filename_template.format(db_name=id_name_map[target_id]) for target_id in target_ids]\n",
    "\n",
    "filenames.append('chembl_to_drugbank.txt.gz')\n",
    "names1 = ['drugbank','target_db1']\n",
    "names2 = ['drugbank','target_db2']\n"
   ],
   "outputs": [],
   "execution_count": 2
  },
  {
   "metadata": {
    "ExecuteTime": {
     "end_time": "2024-07-31T11:44:01.590825Z",
     "start_time": "2024-07-31T11:44:01.569853Z"
    }
   },
   "cell_type": "code",
   "source": [
    "with gzip.open('./drug_mapping_data/drugbank_to_bindingdb.txt.gz', 'rt') as f:\n",
    "\n",
    "    mapping_data = pd.read_csv(f, delimiter='\\t', header=None,names=names1)"
   ],
   "id": "42b74f548e33353f",
   "outputs": [],
   "execution_count": 3
  },
  {
   "metadata": {
    "ExecuteTime": {
     "end_time": "2024-07-31T11:44:01.601027Z",
     "start_time": "2024-07-31T11:44:01.592325Z"
    }
   },
   "cell_type": "code",
   "source": "mapping_data.shape\n",
   "id": "c6b7b5bb50ec9468",
   "outputs": [
    {
     "data": {
      "text/plain": [
       "(16581, 2)"
      ]
     },
     "execution_count": 4,
     "metadata": {},
     "output_type": "execute_result"
    }
   ],
   "execution_count": 4
  },
  {
   "metadata": {
    "ExecuteTime": {
     "end_time": "2024-07-31T11:44:01.612017Z",
     "start_time": "2024-07-31T11:44:01.603252Z"
    }
   },
   "cell_type": "code",
   "source": "mapping_data[mapping_data['target_db1']!='-'].shape",
   "id": "f9a18f6451fdf642",
   "outputs": [
    {
     "data": {
      "text/plain": [
       "(5103, 2)"
      ]
     },
     "execution_count": 5,
     "metadata": {},
     "output_type": "execute_result"
    }
   ],
   "execution_count": 5
  },
  {
   "metadata": {
    "ExecuteTime": {
     "end_time": "2024-07-31T11:44:01.623640Z",
     "start_time": "2024-07-31T11:44:01.613435Z"
    }
   },
   "cell_type": "code",
   "source": [
    "# 使用gzip模块解压缩并读取文件\n",
    "with gzip.open('./drug_mapping_supplement_data/drugbank_to_bindingdb.txt.gz', 'rt') as f:\n",
    "    \n",
    "    supplement_data = pd.read_csv(f, delimiter='\\t', header=1,names=names2)"
   ],
   "id": "4090f3ac8b419cb8",
   "outputs": [],
   "execution_count": 6
  },
  {
   "metadata": {
    "ExecuteTime": {
     "end_time": "2024-07-31T11:44:01.636936Z",
     "start_time": "2024-07-31T11:44:01.625117Z"
    }
   },
   "cell_type": "code",
   "source": "supplement_data.head()",
   "id": "7c03100f389bf914",
   "outputs": [
    {
     "data": {
      "text/plain": [
       "  drugbank  target_db2\n",
       "0  DB04080       14676\n",
       "1  DB16054      391587\n",
       "2  DB12930    50170636\n",
       "3  DB00432    50132298\n",
       "4  DB04743    50056999"
      ],
      "text/html": [
       "<div>\n",
       "<style scoped>\n",
       "    .dataframe tbody tr th:only-of-type {\n",
       "        vertical-align: middle;\n",
       "    }\n",
       "\n",
       "    .dataframe tbody tr th {\n",
       "        vertical-align: top;\n",
       "    }\n",
       "\n",
       "    .dataframe thead th {\n",
       "        text-align: right;\n",
       "    }\n",
       "</style>\n",
       "<table border=\"1\" class=\"dataframe\">\n",
       "  <thead>\n",
       "    <tr style=\"text-align: right;\">\n",
       "      <th></th>\n",
       "      <th>drugbank</th>\n",
       "      <th>target_db2</th>\n",
       "    </tr>\n",
       "  </thead>\n",
       "  <tbody>\n",
       "    <tr>\n",
       "      <th>0</th>\n",
       "      <td>DB04080</td>\n",
       "      <td>14676</td>\n",
       "    </tr>\n",
       "    <tr>\n",
       "      <th>1</th>\n",
       "      <td>DB16054</td>\n",
       "      <td>391587</td>\n",
       "    </tr>\n",
       "    <tr>\n",
       "      <th>2</th>\n",
       "      <td>DB12930</td>\n",
       "      <td>50170636</td>\n",
       "    </tr>\n",
       "    <tr>\n",
       "      <th>3</th>\n",
       "      <td>DB00432</td>\n",
       "      <td>50132298</td>\n",
       "    </tr>\n",
       "    <tr>\n",
       "      <th>4</th>\n",
       "      <td>DB04743</td>\n",
       "      <td>50056999</td>\n",
       "    </tr>\n",
       "  </tbody>\n",
       "</table>\n",
       "</div>"
      ]
     },
     "execution_count": 7,
     "metadata": {},
     "output_type": "execute_result"
    }
   ],
   "execution_count": 7
  },
  {
   "metadata": {
    "ExecuteTime": {
     "end_time": "2024-07-31T11:44:01.668226Z",
     "start_time": "2024-07-31T11:44:01.639375Z"
    }
   },
   "cell_type": "code",
   "source": [
    "merged_data = pd.merge(mapping_data, supplement_data, on='drugbank', how='left')\n",
    "merged_data.fillna('-1', inplace=True)\n",
    "merged_data['target_db2'] = merged_data['target_db2'].astype(int)"
   ],
   "id": "62ff29e4efdd0adf",
   "outputs": [],
   "execution_count": 8
  },
  {
   "metadata": {
    "ExecuteTime": {
     "end_time": "2024-07-31T11:44:01.680994Z",
     "start_time": "2024-07-31T11:44:01.669856Z"
    }
   },
   "cell_type": "code",
   "source": "merged_data",
   "id": "a515f1644c6f9004",
   "outputs": [
    {
     "data": {
      "text/plain": [
       "      drugbank target_db1  target_db2\n",
       "0      DB00001          -          -1\n",
       "1      DB00002          -          -1\n",
       "2      DB00003          -          -1\n",
       "3      DB00004          -          -1\n",
       "4      DB00005          -          -1\n",
       "...        ...        ...         ...\n",
       "16824  DB18713          -          -1\n",
       "16825  DB18714          -          -1\n",
       "16826  DB18715          -          -1\n",
       "16827  DB18716          -          -1\n",
       "16828  DB18717          -          -1\n",
       "\n",
       "[16829 rows x 3 columns]"
      ],
      "text/html": [
       "<div>\n",
       "<style scoped>\n",
       "    .dataframe tbody tr th:only-of-type {\n",
       "        vertical-align: middle;\n",
       "    }\n",
       "\n",
       "    .dataframe tbody tr th {\n",
       "        vertical-align: top;\n",
       "    }\n",
       "\n",
       "    .dataframe thead th {\n",
       "        text-align: right;\n",
       "    }\n",
       "</style>\n",
       "<table border=\"1\" class=\"dataframe\">\n",
       "  <thead>\n",
       "    <tr style=\"text-align: right;\">\n",
       "      <th></th>\n",
       "      <th>drugbank</th>\n",
       "      <th>target_db1</th>\n",
       "      <th>target_db2</th>\n",
       "    </tr>\n",
       "  </thead>\n",
       "  <tbody>\n",
       "    <tr>\n",
       "      <th>0</th>\n",
       "      <td>DB00001</td>\n",
       "      <td>-</td>\n",
       "      <td>-1</td>\n",
       "    </tr>\n",
       "    <tr>\n",
       "      <th>1</th>\n",
       "      <td>DB00002</td>\n",
       "      <td>-</td>\n",
       "      <td>-1</td>\n",
       "    </tr>\n",
       "    <tr>\n",
       "      <th>2</th>\n",
       "      <td>DB00003</td>\n",
       "      <td>-</td>\n",
       "      <td>-1</td>\n",
       "    </tr>\n",
       "    <tr>\n",
       "      <th>3</th>\n",
       "      <td>DB00004</td>\n",
       "      <td>-</td>\n",
       "      <td>-1</td>\n",
       "    </tr>\n",
       "    <tr>\n",
       "      <th>4</th>\n",
       "      <td>DB00005</td>\n",
       "      <td>-</td>\n",
       "      <td>-1</td>\n",
       "    </tr>\n",
       "    <tr>\n",
       "      <th>...</th>\n",
       "      <td>...</td>\n",
       "      <td>...</td>\n",
       "      <td>...</td>\n",
       "    </tr>\n",
       "    <tr>\n",
       "      <th>16824</th>\n",
       "      <td>DB18713</td>\n",
       "      <td>-</td>\n",
       "      <td>-1</td>\n",
       "    </tr>\n",
       "    <tr>\n",
       "      <th>16825</th>\n",
       "      <td>DB18714</td>\n",
       "      <td>-</td>\n",
       "      <td>-1</td>\n",
       "    </tr>\n",
       "    <tr>\n",
       "      <th>16826</th>\n",
       "      <td>DB18715</td>\n",
       "      <td>-</td>\n",
       "      <td>-1</td>\n",
       "    </tr>\n",
       "    <tr>\n",
       "      <th>16827</th>\n",
       "      <td>DB18716</td>\n",
       "      <td>-</td>\n",
       "      <td>-1</td>\n",
       "    </tr>\n",
       "    <tr>\n",
       "      <th>16828</th>\n",
       "      <td>DB18717</td>\n",
       "      <td>-</td>\n",
       "      <td>-1</td>\n",
       "    </tr>\n",
       "  </tbody>\n",
       "</table>\n",
       "<p>16829 rows × 3 columns</p>\n",
       "</div>"
      ]
     },
     "execution_count": 9,
     "metadata": {},
     "output_type": "execute_result"
    }
   ],
   "execution_count": 9
  },
  {
   "metadata": {
    "ExecuteTime": {
     "end_time": "2024-07-31T11:44:01.895971Z",
     "start_time": "2024-07-31T11:44:01.682886Z"
    }
   },
   "cell_type": "code",
   "source": "merged_data['target_db1'] = merged_data.apply(lambda row: row['target_db2'] if row['target_db1'] == '-' and row['target_db2']!=-1 else row['target_db1'], axis=1)",
   "id": "7ff88862d7068626",
   "outputs": [],
   "execution_count": 10
  },
  {
   "metadata": {
    "ExecuteTime": {
     "end_time": "2024-07-31T11:44:01.910631Z",
     "start_time": "2024-07-31T11:44:01.899405Z"
    }
   },
   "cell_type": "code",
   "source": [
    "filtered_df = merged_data[(merged_data['target_db1'] == '-') & (merged_data['target_db2'] != -1)]\n",
    "filtered_df"
   ],
   "id": "1032189003d5ad02",
   "outputs": [
    {
     "data": {
      "text/plain": [
       "Empty DataFrame\n",
       "Columns: [drugbank, target_db1, target_db2]\n",
       "Index: []"
      ],
      "text/html": [
       "<div>\n",
       "<style scoped>\n",
       "    .dataframe tbody tr th:only-of-type {\n",
       "        vertical-align: middle;\n",
       "    }\n",
       "\n",
       "    .dataframe tbody tr th {\n",
       "        vertical-align: top;\n",
       "    }\n",
       "\n",
       "    .dataframe thead th {\n",
       "        text-align: right;\n",
       "    }\n",
       "</style>\n",
       "<table border=\"1\" class=\"dataframe\">\n",
       "  <thead>\n",
       "    <tr style=\"text-align: right;\">\n",
       "      <th></th>\n",
       "      <th>drugbank</th>\n",
       "      <th>target_db1</th>\n",
       "      <th>target_db2</th>\n",
       "    </tr>\n",
       "  </thead>\n",
       "  <tbody>\n",
       "  </tbody>\n",
       "</table>\n",
       "</div>"
      ]
     },
     "execution_count": 11,
     "metadata": {},
     "output_type": "execute_result"
    }
   ],
   "execution_count": 11
  },
  {
   "metadata": {
    "ExecuteTime": {
     "end_time": "2024-07-31T11:44:01.917577Z",
     "start_time": "2024-07-31T11:44:01.912056Z"
    }
   },
   "cell_type": "code",
   "source": "end_merged_data  = merged_data[['drugbank','target_db1']]\n",
   "id": "f4b3b617537906b0",
   "outputs": [],
   "execution_count": 12
  },
  {
   "metadata": {
    "ExecuteTime": {
     "end_time": "2024-07-31T11:44:01.932267Z",
     "start_time": "2024-07-31T11:44:01.919507Z"
    }
   },
   "cell_type": "code",
   "source": [
    "end_merged_data = end_merged_data.drop_duplicates(['drugbank'])\n",
    "end_merged_data"
   ],
   "id": "eaaf0b0627907bb9",
   "outputs": [
    {
     "data": {
      "text/plain": [
       "      drugbank target_db1\n",
       "0      DB00001          -\n",
       "1      DB00002          -\n",
       "2      DB00003          -\n",
       "3      DB00004          -\n",
       "4      DB00005          -\n",
       "...        ...        ...\n",
       "16824  DB18713          -\n",
       "16825  DB18714          -\n",
       "16826  DB18715          -\n",
       "16827  DB18716          -\n",
       "16828  DB18717          -\n",
       "\n",
       "[16581 rows x 2 columns]"
      ],
      "text/html": [
       "<div>\n",
       "<style scoped>\n",
       "    .dataframe tbody tr th:only-of-type {\n",
       "        vertical-align: middle;\n",
       "    }\n",
       "\n",
       "    .dataframe tbody tr th {\n",
       "        vertical-align: top;\n",
       "    }\n",
       "\n",
       "    .dataframe thead th {\n",
       "        text-align: right;\n",
       "    }\n",
       "</style>\n",
       "<table border=\"1\" class=\"dataframe\">\n",
       "  <thead>\n",
       "    <tr style=\"text-align: right;\">\n",
       "      <th></th>\n",
       "      <th>drugbank</th>\n",
       "      <th>target_db1</th>\n",
       "    </tr>\n",
       "  </thead>\n",
       "  <tbody>\n",
       "    <tr>\n",
       "      <th>0</th>\n",
       "      <td>DB00001</td>\n",
       "      <td>-</td>\n",
       "    </tr>\n",
       "    <tr>\n",
       "      <th>1</th>\n",
       "      <td>DB00002</td>\n",
       "      <td>-</td>\n",
       "    </tr>\n",
       "    <tr>\n",
       "      <th>2</th>\n",
       "      <td>DB00003</td>\n",
       "      <td>-</td>\n",
       "    </tr>\n",
       "    <tr>\n",
       "      <th>3</th>\n",
       "      <td>DB00004</td>\n",
       "      <td>-</td>\n",
       "    </tr>\n",
       "    <tr>\n",
       "      <th>4</th>\n",
       "      <td>DB00005</td>\n",
       "      <td>-</td>\n",
       "    </tr>\n",
       "    <tr>\n",
       "      <th>...</th>\n",
       "      <td>...</td>\n",
       "      <td>...</td>\n",
       "    </tr>\n",
       "    <tr>\n",
       "      <th>16824</th>\n",
       "      <td>DB18713</td>\n",
       "      <td>-</td>\n",
       "    </tr>\n",
       "    <tr>\n",
       "      <th>16825</th>\n",
       "      <td>DB18714</td>\n",
       "      <td>-</td>\n",
       "    </tr>\n",
       "    <tr>\n",
       "      <th>16826</th>\n",
       "      <td>DB18715</td>\n",
       "      <td>-</td>\n",
       "    </tr>\n",
       "    <tr>\n",
       "      <th>16827</th>\n",
       "      <td>DB18716</td>\n",
       "      <td>-</td>\n",
       "    </tr>\n",
       "    <tr>\n",
       "      <th>16828</th>\n",
       "      <td>DB18717</td>\n",
       "      <td>-</td>\n",
       "    </tr>\n",
       "  </tbody>\n",
       "</table>\n",
       "<p>16581 rows × 2 columns</p>\n",
       "</div>"
      ]
     },
     "execution_count": 13,
     "metadata": {},
     "output_type": "execute_result"
    }
   ],
   "execution_count": 13
  },
  {
   "metadata": {
    "ExecuteTime": {
     "end_time": "2024-07-31T11:44:01.942303Z",
     "start_time": "2024-07-31T11:44:01.934072Z"
    }
   },
   "cell_type": "code",
   "source": "end_merged_data[end_merged_data['target_db1']!='-'].shape",
   "id": "7f2e8a9413904541",
   "outputs": [
    {
     "data": {
      "text/plain": [
       "(5459, 2)"
      ]
     },
     "execution_count": 14,
     "metadata": {},
     "output_type": "execute_result"
    }
   ],
   "execution_count": 14
  }
 ],
 "metadata": {
  "kernelspec": {
   "display_name": "Python 3",
   "language": "python",
   "name": "python3"
  },
  "language_info": {
   "codemirror_mode": {
    "name": "ipython",
    "version": 2
   },
   "file_extension": ".py",
   "mimetype": "text/x-python",
   "name": "python",
   "nbconvert_exporter": "python",
   "pygments_lexer": "ipython2",
   "version": "2.7.6"
  }
 },
 "nbformat": 4,
 "nbformat_minor": 5
}
