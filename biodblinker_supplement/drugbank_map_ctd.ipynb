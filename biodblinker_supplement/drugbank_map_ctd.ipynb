{
 "cells": [
  {
   "cell_type": "code",
   "id": "initial_id",
   "metadata": {
    "collapsed": true,
    "ExecuteTime": {
     "end_time": "2024-08-18T05:22:48.229104Z",
     "start_time": "2024-08-18T05:21:06.922960Z"
    }
   },
   "source": [
    "from zipfile import ZipFile\n",
    "ns = {'db': 'http://www.drugbank.ca'}\n",
    "import xml.etree.ElementTree as ET\n",
    "from tqdm import tqdm\n",
    "from Bio import Entrez\n",
    "drug_ids = []\n",
    "drug_names = []\n",
    "cas_numbers = []\n",
    "drugbank_filepath = '/project/reproduct_paper/biodata/data/sources/drugbank_all_full_database.xml.zip'\n",
    "with ZipFile(drugbank_filepath, 'r') as dbzip:\n",
    "    with dbzip.open('full database.xml', force_zip64=True) as xmlfile:\n",
    "        for _, elem in tqdm(ET.iterparse(xmlfile), 'Processing Drugbank mapping'):\n",
    "            # Check the length of the drug element as pathways also contain drug elements\n",
    "            if elem.tag == '{http://www.drugbank.ca}drug' and len(elem) > 2:\n",
    "                drug_id_elem = elem.find('./db:drugbank-id[@primary=\"true\"]', ns)\n",
    "                did = drug_id_elem.text\n",
    "                # print(did)\n",
    "                name_elem = elem.find('./db:name', ns)\n",
    "                drug_names.append(name_elem.text)\n",
    "                cas_number = elem.find('./db:cas-number', ns)\n",
    "                if cas_number is not None:\n",
    "                    drug_ids.append(did)\n",
    "                    cas_numbers.append(cas_number.text)\n",
    "                elem.clear()\n"
   ],
   "outputs": [
    {
     "name": "stderr",
     "output_type": "stream",
     "text": [
      "Processing Drugbank mapping: 29846478it [01:41, 294747.29it/s]\n"
     ]
    }
   ],
   "execution_count": 1
  },
  {
   "metadata": {
    "ExecuteTime": {
     "end_time": "2024-08-17T12:35:48.103323Z",
     "start_time": "2024-08-17T12:35:48.068729Z"
    }
   },
   "cell_type": "code",
   "source": [
    "# import pandas as pd\n",
    "# # 创建一个字典，将列表对应到列名\n",
    "# data = {\n",
    "#     'drug_id': drug_ids,\n",
    "#     'drug_name': drug_names,\n",
    "#     'cas_number': cas_numbers\n",
    "# }\n",
    "# \n",
    "# # 创建DataFrame\n",
    "# df = pd.DataFrame(data)\n",
    "# \n",
    "# #将DataFrame保存为CSV文件\n",
    "# df.to_csv('./drugbank_id_name_csv.csv',header=['drug_id','drug_name','cas_number'], index=False)\n",
    "# df"
   ],
   "id": "89a312e140fed772",
   "outputs": [
    {
     "data": {
      "text/plain": [
       "       drug_id                                         drug_name    cas_number\n",
       "0      DB00001                                         Lepirudin   138068-37-8\n",
       "1      DB00002                                         Cetuximab   205923-56-4\n",
       "2      DB00003                                      Dornase alfa   143831-71-4\n",
       "3      DB00004                               Denileukin diftitox   173146-27-5\n",
       "4      DB00005                                        Etanercept   185243-69-0\n",
       "...        ...                                               ...           ...\n",
       "16576  DB18713  Recombinant stabilized RSV A prefusion F antigen          None\n",
       "16577  DB18714  Recombinant stabilized RSV B prefusion F antigen          None\n",
       "16578  DB18715                                      Tolebrutinib  1971920-73-6\n",
       "16579  DB18716                                    Enmetazobactam  1001404-83-6\n",
       "16580  DB18717                                          Graphite     7782-42-5\n",
       "\n",
       "[16581 rows x 3 columns]"
      ],
      "text/html": [
       "<div>\n",
       "<style scoped>\n",
       "    .dataframe tbody tr th:only-of-type {\n",
       "        vertical-align: middle;\n",
       "    }\n",
       "\n",
       "    .dataframe tbody tr th {\n",
       "        vertical-align: top;\n",
       "    }\n",
       "\n",
       "    .dataframe thead th {\n",
       "        text-align: right;\n",
       "    }\n",
       "</style>\n",
       "<table border=\"1\" class=\"dataframe\">\n",
       "  <thead>\n",
       "    <tr style=\"text-align: right;\">\n",
       "      <th></th>\n",
       "      <th>drug_id</th>\n",
       "      <th>drug_name</th>\n",
       "      <th>cas_number</th>\n",
       "    </tr>\n",
       "  </thead>\n",
       "  <tbody>\n",
       "    <tr>\n",
       "      <th>0</th>\n",
       "      <td>DB00001</td>\n",
       "      <td>Lepirudin</td>\n",
       "      <td>138068-37-8</td>\n",
       "    </tr>\n",
       "    <tr>\n",
       "      <th>1</th>\n",
       "      <td>DB00002</td>\n",
       "      <td>Cetuximab</td>\n",
       "      <td>205923-56-4</td>\n",
       "    </tr>\n",
       "    <tr>\n",
       "      <th>2</th>\n",
       "      <td>DB00003</td>\n",
       "      <td>Dornase alfa</td>\n",
       "      <td>143831-71-4</td>\n",
       "    </tr>\n",
       "    <tr>\n",
       "      <th>3</th>\n",
       "      <td>DB00004</td>\n",
       "      <td>Denileukin diftitox</td>\n",
       "      <td>173146-27-5</td>\n",
       "    </tr>\n",
       "    <tr>\n",
       "      <th>4</th>\n",
       "      <td>DB00005</td>\n",
       "      <td>Etanercept</td>\n",
       "      <td>185243-69-0</td>\n",
       "    </tr>\n",
       "    <tr>\n",
       "      <th>...</th>\n",
       "      <td>...</td>\n",
       "      <td>...</td>\n",
       "      <td>...</td>\n",
       "    </tr>\n",
       "    <tr>\n",
       "      <th>16576</th>\n",
       "      <td>DB18713</td>\n",
       "      <td>Recombinant stabilized RSV A prefusion F antigen</td>\n",
       "      <td>None</td>\n",
       "    </tr>\n",
       "    <tr>\n",
       "      <th>16577</th>\n",
       "      <td>DB18714</td>\n",
       "      <td>Recombinant stabilized RSV B prefusion F antigen</td>\n",
       "      <td>None</td>\n",
       "    </tr>\n",
       "    <tr>\n",
       "      <th>16578</th>\n",
       "      <td>DB18715</td>\n",
       "      <td>Tolebrutinib</td>\n",
       "      <td>1971920-73-6</td>\n",
       "    </tr>\n",
       "    <tr>\n",
       "      <th>16579</th>\n",
       "      <td>DB18716</td>\n",
       "      <td>Enmetazobactam</td>\n",
       "      <td>1001404-83-6</td>\n",
       "    </tr>\n",
       "    <tr>\n",
       "      <th>16580</th>\n",
       "      <td>DB18717</td>\n",
       "      <td>Graphite</td>\n",
       "      <td>7782-42-5</td>\n",
       "    </tr>\n",
       "  </tbody>\n",
       "</table>\n",
       "<p>16581 rows × 3 columns</p>\n",
       "</div>"
      ]
     },
     "execution_count": 93,
     "metadata": {},
     "output_type": "execute_result"
    }
   ],
   "execution_count": 93
  },
  {
   "metadata": {
    "ExecuteTime": {
     "end_time": "2024-08-18T05:23:02.910369Z",
     "start_time": "2024-08-18T05:23:02.291547Z"
    }
   },
   "cell_type": "code",
   "source": [
    "import gzip\n",
    "nb_entries = 0\n",
    "chem_ids = []\n",
    "chem_cas_numbers = []\n",
    "chemical_id_mapping_fp = \"/project/reproduct_paper/biodata/data/sources/CTD_chemicals.tsv.gz\"\n",
    "with gzip.open(chemical_id_mapping_fp, 'rt') as chem_map_fd:\n",
    "    for line in chem_map_fd:\n",
    "        if line.startswith('#'):\n",
    "            continue\n",
    "        parts = line.strip().split('\\t')\n",
    "        nb_entries += 1\n",
    "        chem_id = parts[1].replace('MESH:', '')\n",
    "        cas_number = parts[2]\n",
    "        chem_ids.append(chem_id)\n",
    "        chem_cas_numbers.append(cas_number)"
   ],
   "id": "58046b8edbb91e1f",
   "outputs": [],
   "execution_count": 3
  },
  {
   "metadata": {
    "ExecuteTime": {
     "end_time": "2024-08-18T05:23:05.794781Z",
     "start_time": "2024-08-18T05:23:05.721099Z"
    }
   },
   "cell_type": "code",
   "source": [
    "drugbank_dict = dict(zip(drug_ids, cas_numbers))\n",
    "ctd_dict = dict(zip( chem_cas_numbers,chem_ids))\n",
    "drugid_name_dict = dict(zip( drug_ids,drug_names))\n",
    "drugid_no_map = []\n",
    "chemical_to_drugbank = {}\n",
    "repeat_chemical_id = []\n",
    "i=0\n",
    "for drugid,casid in drugbank_dict.items():\n",
    "    try:\n",
    "        \n",
    "        chem_mapid = ctd_dict[casid]\n",
    "        if chem_mapid in chemical_to_drugbank:\n",
    "            repeat_chemical_id.append(chem_mapid)\n",
    "        else:\n",
    "            chemical_to_drugbank[chem_mapid] = drugid\n",
    "        i+=1\n",
    "    except KeyError:\n",
    "        drugid_no_map.append(drugid)\n",
    "#去除重复的id\n",
    "for repeatid in repeat_chemical_id:\n",
    "    chemical_to_drugbank.pop(repeatid,None)\n",
    "len(chemical_to_drugbank)"
   ],
   "id": "7972d3a5fe4bc78a",
   "outputs": [
    {
     "data": {
      "text/plain": [
       "3808"
      ]
     },
     "execution_count": 5,
     "metadata": {},
     "output_type": "execute_result"
    }
   ],
   "execution_count": 5
  },
  {
   "metadata": {
    "ExecuteTime": {
     "end_time": "2024-08-18T05:42:32.541672Z",
     "start_time": "2024-08-18T05:23:10.087838Z"
    }
   },
   "cell_type": "code",
   "source": [
    "import requests\n",
    "from bs4 import BeautifulSoup\n",
    "from concurrent.futures import ThreadPoolExecutor, as_completed\n",
    "from tqdm import tqdm\n",
    "import random\n",
    "import time\n",
    "\n",
    "# Assuming chemical_to_drugbank and drugid_name_dict are predefined\n",
    "chemical_to_drugbank1 = {}\n",
    "\n",
    "# Function to process each drugid\n",
    "def process_drug(drugid):\n",
    "    url = \"https://ctdbase.org/basicQuery.go?bqCat=chem&bq=\" + drugid_name_dict[drugid]\n",
    "    \n",
    "    try:\n",
    "        # Fetch the content from the URL\n",
    "        response = requests.get(url)\n",
    "        \n",
    "        # Parse the HTML content using BeautifulSoup\n",
    "        soup = BeautifulSoup(response.content, \"html.parser\")\n",
    "        \n",
    "        # Extract the MeSH ID\n",
    "        mesh_id = soup.find(\"a\", href=lambda href: href and \"mesh\" in href).get_text()\n",
    "        chemical_to_drugbank1[mesh_id] = drugid\n",
    "    except (AttributeError, requests.RequestException):\n",
    "        pass\n",
    "    time.sleep(random.uniform(1, 2))\n",
    "\n",
    "# Function to handle multi-threading\n",
    "def process_all_drugs_concurrently(drugid_list, max_workers=30):\n",
    "    with ThreadPoolExecutor(max_workers=max_workers) as executor:\n",
    "        futures = {executor.submit(process_drug, drugid): drugid for drugid in drugid_list}\n",
    "        for future in tqdm(as_completed(futures), total=len(futures)):\n",
    "            try:\n",
    "                future.result()  # Ensure any exceptions are raised\n",
    "            except Exception as e:\n",
    "                print(f\"Error processing {futures[future]}: {e}\")\n",
    "\n",
    "# Run the multi-threaded processing\n",
    "process_all_drugs_concurrently(drugid_no_map)"
   ],
   "id": "dca7796cc22bafde",
   "outputs": [
    {
     "name": "stderr",
     "output_type": "stream",
     "text": [
      "100%|██████████| 12756/12756 [19:21<00:00, 10.98it/s]\n"
     ]
    }
   ],
   "execution_count": 6
  },
  {
   "metadata": {
    "ExecuteTime": {
     "end_time": "2024-08-18T05:50:30.976477Z",
     "start_time": "2024-08-18T05:50:30.968485Z"
    }
   },
   "cell_type": "code",
   "source": [
    "chemical_to_drugbank_merged_dict = {**chemical_to_drugbank1, **chemical_to_drugbank}\n",
    "print(len(chemical_to_drugbank_merged_dict)) "
   ],
   "id": "4cb70625f94dbc43",
   "outputs": [
    {
     "name": "stdout",
     "output_type": "stream",
     "text": [
      "7205\n"
     ]
    }
   ],
   "execution_count": 15
  },
  {
   "metadata": {
    "ExecuteTime": {
     "end_time": "2024-08-18T05:55:17.460114Z",
     "start_time": "2024-08-18T05:55:17.354932Z"
    }
   },
   "cell_type": "code",
   "source": [
    "import gzip\n",
    "import csv\n",
    "\n",
    "# 保存字典到压缩文件\n",
    "with gzip.open('chemical_drugbank.txt.gz', 'wt', newline='') as gz_file:\n",
    "    writer = csv.writer(gz_file, delimiter='\\t')\n",
    "    for key, value in chemical_to_drugbank_merged_dict.items():\n",
    "        writer.writerow([key, value])"
   ],
   "id": "83804d1903933aa0",
   "outputs": [],
   "execution_count": 17
  }
 ],
 "metadata": {
  "kernelspec": {
   "display_name": "Python 3",
   "language": "python",
   "name": "python3"
  },
  "language_info": {
   "codemirror_mode": {
    "name": "ipython",
    "version": 2
   },
   "file_extension": ".py",
   "mimetype": "text/x-python",
   "name": "python",
   "nbconvert_exporter": "python",
   "pygments_lexer": "ipython2",
   "version": "2.7.6"
  }
 },
 "nbformat": 4,
 "nbformat_minor": 5
}
