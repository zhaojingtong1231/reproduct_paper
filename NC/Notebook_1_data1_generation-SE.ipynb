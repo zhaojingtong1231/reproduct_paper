{
 "cells": [
  {
   "cell_type": "markdown",
   "metadata": {},
   "source": [
    "This notebook is a tutorial to generate local steric and electronic information in data1."
   ]
  },
  {
   "cell_type": "markdown",
   "metadata": {},
   "source": [
    "# Load Dependencies"
   ]
  },
  {
   "cell_type": "code",
   "execution_count": 2,
   "metadata": {
    "ExecuteTime": {
     "end_time": "2023-02-20T06:43:48.896318Z",
     "start_time": "2023-02-20T06:43:48.891129Z"
    }
   },
   "outputs": [],
   "source": [
    "import numpy as np\n",
    "import pandas as pd\n",
    "import glob\n",
    "from rdkit import Chem\n",
    "from rdkit.Chem import AllChem\n",
    "from script.SEMG import Calc_SPMS,Scaler,PackCub \n",
    "import warnings\n",
    "warnings.filterwarnings(\"ignore\")"
   ]
  },
  {
   "cell_type": "markdown",
   "metadata": {},
   "source": [
    "# Load Data"
   ]
  },
  {
   "cell_type": "code",
   "execution_count": 3,
   "metadata": {
    "ExecuteTime": {
     "end_time": "2023-02-20T06:43:52.338744Z",
     "start_time": "2023-02-20T06:43:52.280627Z"
    },
    "hide_input": false,
    "scrolled": true
   },
   "outputs": [],
   "source": [
    "data_file = './Data/data1/data1.csv'\n",
    "steric_dir = './Data/data1/xtb_sdf/'\n",
    "ed_dir='./Data/data1/b3lyp_def2svp/'\n",
    "tmp_df = pd.read_csv(data_file)\n",
    "lig_smiles = np.array(tmp_df['Ligand'].to_list())\n",
    "add_smiles = np.array(tmp_df['Additive'].to_list())\n",
    "base_smiles = np.array(tmp_df['Base'].to_list())\n",
    "ar_ha_smiles = np.array(tmp_df['Aryl halide'].to_list())\n",
    "labels = np.array(tmp_df['Output'].to_list())\n",
    "label_std = (np.array(labels)-np.min(labels))/(np.max(labels)-np.min(labels))\n",
    "\n",
    "lig_smi_set = list(set(lig_smiles))\n",
    "add_smi_set = list(set(add_smiles))\n",
    "base_smi_set = list(set(base_smiles))\n",
    "ar_ha_smi_set = list(set(ar_ha_smiles))"
   ]
  },
  {
   "cell_type": "markdown",
   "metadata": {},
   "source": [
    "# Generate local steric and electronic information"
   ]
  },
  {
   "cell_type": "code",
   "execution_count": 4,
   "metadata": {
    "ExecuteTime": {
     "end_time": "2023-02-20T06:43:54.150139Z",
     "start_time": "2023-02-20T06:43:54.140488Z"
    }
   },
   "outputs": [],
   "source": [
    "with open(steric_dir+'smiles_file_dict.csv','r') as fr:\n",
    "    lines = fr.readlines()\n",
    "\n",
    "smiles_name_dict = {tmp_line.strip().split(',')[0]:tmp_line.strip().split(',')[1] for tmp_line in lines}"
   ]
  },
  {
   "cell_type": "code",
   "execution_count": 5,
   "metadata": {
    "ExecuteTime": {
     "end_time": "2023-02-20T06:44:02.473809Z",
     "start_time": "2023-02-20T06:43:56.550369Z"
    },
    "scrolled": true
   },
   "outputs": [],
   "source": [
    "sort_func = lambda x: eval(x.split('/')[-1].split('.')[0].split('_')[-1])\n",
    "lig_files = sorted(glob.glob(steric_dir+'lig_*.sdf'),key=sort_func)\n",
    "add_files = sorted(glob.glob(steric_dir+'add_*.sdf'),key=sort_func)\n",
    "base_files = sorted(glob.glob(steric_dir+'base_*.sdf'),key=sort_func)\n",
    "ar_ha_files = sorted(glob.glob(steric_dir+'ar_ha_*.sdf'),key=sort_func)\n",
    "\n",
    "lig_spms,lig_id_name_dict = Calc_SPMS(lig_files,steric_dir).calc_spms(lig_files,steric_dir)\n",
    "add_spms,add_id_name_dict = Calc_SPMS(add_files,steric_dir).calc_spms(add_files,steric_dir)\n",
    "base_spms,base_id_name_dict = Calc_SPMS(base_files,steric_dir).calc_spms(base_files,steric_dir)\n",
    "ar_ha_spms,ar_ha_id_name_dict = Calc_SPMS(ar_ha_files,steric_dir).calc_spms(ar_ha_files,steric_dir)\n",
    "\n",
    "total_lig_spms = np.array([lig_spms[lig_id_name_dict[smiles_name_dict[tmp_smi]]] for tmp_smi in lig_smiles])\n",
    "total_add_spms = np.array([add_spms[add_id_name_dict[smiles_name_dict[tmp_smi]]] for tmp_smi in add_smiles])\n",
    "total_base_spms = np.array([base_spms[base_id_name_dict[smiles_name_dict[tmp_smi]]] for tmp_smi in base_smiles])\n",
    "total_ar_ha_spms = np.array([ar_ha_spms[ar_ha_id_name_dict[smiles_name_dict[tmp_smi]]] for tmp_smi in ar_ha_smiles])\n",
    "\n",
    "total_lig_elec_desc=PackCub(np.array([np.load(ed_dir+'def2-svp_b3lyp_'+smiles_name_dict[tmp_smi]+'.npy') for tmp_smi in lig_smiles]))\n",
    "total_add_elec_desc=PackCub(np.array([np.load(ed_dir+'def2-svp_b3lyp_'+smiles_name_dict[tmp_smi]+'.npy') for tmp_smi in add_smiles]))\n",
    "total_base_elec_desc=PackCub(np.array([np.load(ed_dir+'def2-svp_b3lyp_'+smiles_name_dict[tmp_smi]+'.npy') for tmp_smi in base_smiles]))\n",
    "total_ar_ha_elec_desc=PackCub(np.array([np.load(ed_dir+'def2-svp_b3lyp_'+smiles_name_dict[tmp_smi]+'.npy') for tmp_smi in ar_ha_smiles]))"
   ]
  },
  {
   "cell_type": "code",
   "execution_count": 6,
   "metadata": {
    "ExecuteTime": {
     "end_time": "2023-02-20T06:44:05.470840Z",
     "start_time": "2023-02-20T06:44:04.881076Z"
    }
   },
   "outputs": [],
   "source": [
    "lig_spms_trans = np.transpose(total_lig_spms,(0,2,3,1))\n",
    "add_spms_trans = np.transpose(total_add_spms,(0,2,3,1))\n",
    "base_spms_trans = np.transpose(total_base_spms,(0,2,3,1))\n",
    "ar_ha_spms_trans = np.transpose(total_ar_ha_spms,(0,2,3,1))\n",
    "\n",
    "lig_elec_trans = np.transpose(total_lig_elec_desc,(0,2,3,4,1))\n",
    "add_elec_trans = np.transpose(total_add_elec_desc,(0,2,3,4,1))\n",
    "base_elec_trans = np.transpose(total_base_elec_desc,(0,2,3,4,1))\n",
    "ar_ha_elec_trans = np.transpose(total_ar_ha_elec_desc,(0,2,3,4,1))\n",
    "\n",
    "react_spms = np.concatenate([lig_spms_trans,add_spms_trans,base_spms_trans,ar_ha_spms_trans],axis=3)\n",
    "react_elec = np.concatenate([lig_elec_trans,add_elec_trans,base_elec_trans,ar_ha_elec_trans],axis=4)\n",
    "label_std = (np.array(labels)-np.min(labels))/(np.max(labels)-np.min(labels))"
   ]
  },
  {
   "cell_type": "code",
   "execution_count": 8,
   "metadata": {
    "ExecuteTime": {
     "end_time": "2023-02-20T06:46:01.246411Z",
     "start_time": "2023-02-20T06:45:51.569636Z"
    }
   },
   "outputs": [],
   "source": [
    "np.save('./Data/data1/run_data/data1_SEMG_MIGNN_react_spms.npy',react_spms)\n",
    "np.save('./Data/data1/run_data/data1_SEMG_MIGNN_react_elec.npy',react_elec)\n",
    "np.save('./Data/data1/run_data/data1_SEMG_MIGNN_labels.npy',labels)\n",
    "np.save('./Data/data1/run_data/data1_SEMG_MIGNN_label_std.npy',label_std)"
   ]
  }
 ],
 "metadata": {
  "kernelspec": {
   "display_name": "Python 3 (ipykernel)",
   "language": "python",
   "name": "python3"
  },
  "language_info": {
   "codemirror_mode": {
    "name": "ipython",
    "version": 3
   },
   "file_extension": ".py",
   "mimetype": "text/x-python",
   "name": "python",
   "nbconvert_exporter": "python",
   "pygments_lexer": "ipython3",
   "version": "3.8.12"
  },
  "toc": {
   "base_numbering": 1,
   "nav_menu": {},
   "number_sections": true,
   "sideBar": true,
   "skip_h1_title": false,
   "title_cell": "Table of Contents",
   "title_sidebar": "Contents",
   "toc_cell": false,
   "toc_position": {
    "height": "calc(100% - 180px)",
    "left": "10px",
    "top": "150px",
    "width": "246.938px"
   },
   "toc_section_display": true,
   "toc_window_display": true
  },
  "varInspector": {
   "cols": {
    "lenName": 16,
    "lenType": 16,
    "lenVar": 40
   },
   "kernels_config": {
    "python": {
     "delete_cmd_postfix": "",
     "delete_cmd_prefix": "del ",
     "library": "var_list.py",
     "varRefreshCmd": "print(var_dic_list())"
    },
    "r": {
     "delete_cmd_postfix": ") ",
     "delete_cmd_prefix": "rm(",
     "library": "var_list.r",
     "varRefreshCmd": "cat(var_dic_list()) "
    }
   },
   "types_to_exclude": [
    "module",
    "function",
    "builtin_function_or_method",
    "instance",
    "_Feature"
   ],
   "window_display": false
  }
 },
 "nbformat": 4,
 "nbformat_minor": 4
}
