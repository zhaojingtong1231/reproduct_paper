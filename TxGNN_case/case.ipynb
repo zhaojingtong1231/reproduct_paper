{
 "cells": [
  {
   "cell_type": "code",
   "id": "initial_id",
   "metadata": {
    "collapsed": true,
    "ExecuteTime": {
     "end_time": "2025-01-16T16:13:21.855171Z",
     "start_time": "2025-01-16T16:13:16.905892Z"
    }
   },
   "source": [
    "from txgnn import TxEval\n",
    "import torch\n",
    "from txgnn import TxData, TxGNNPrompt, TxEval\n",
    "TxData = TxData(data_folder_path='/data/zhaojingtong/PrimeKG/data_all')\n",
    "TxData.prepare_split(split='random', seed=12, no_kg=False)\n",
    "device = torch.device(f\"cuda:0\" if torch.cuda.is_available() else \"cpu\")\n",
    "\n",
    "TxGNN = TxGNNPrompt(data=TxData,\n",
    "                    weight_bias_track=False,\n",
    "                    proj_name='TxGNNPrompt',\n",
    "                    exp_name='TxGNNPrompt',\n",
    "                    device=device)\n",
    "\n",
    "TxGNN.model_initialize(n_hid=512,\n",
    "                       n_inp=512,\n",
    "                       n_out=512,\n",
    "                       proto=True,\n",
    "                       proto_num=3,\n",
    "                       sim_measure='all_nodes_profile',\n",
    "                       bert_measure='disease_name',\n",
    "                       agg_measure='rarity',\n",
    "                       num_walks=200,\n",
    "                       walk_mode='bit',\n",
    "                       path_length=2)\n",
    "\n",
    "TxGNN.load_pretrained('/data/zhaojingtong/PrimeKG/our/random/lr0.001_batch2048_epochs10_hidden512_splitrandom_time12_24_10_46_seed22/model9_0.pth')\n",
    "TxEval = TxEval(model = TxGNN)\n"
   ],
   "outputs": [
    {
     "ename": "ImportError",
     "evalue": "/root/miniconda3/envs/torch21/lib/python3.8/site-packages/sklearn/__check_build/../../scikit_learn.libs/libgomp-d22c30c5.so.1.0.0: cannot allocate memory in static TLS block\n___________________________________________________________________________\nContents of /root/miniconda3/envs/torch21/lib/python3.8/site-packages/sklearn/__check_build:\n__init__.py               _check_build.cpython-38-aarch64-linux-gnu.so__pycache__\n___________________________________________________________________________\nIt seems that scikit-learn has not been built correctly.\n\nIf you have installed scikit-learn from source, please do not forget\nto build the package before using it: run `python setup.py install` or\n`make` in the source directory.\n\nIf you have used an installer, please check that it is suited for your\nPython version, your operating system and your platform.",
     "output_type": "error",
     "traceback": [
      "\u001B[0;31m---------------------------------------------------------------------------\u001B[0m",
      "\u001B[0;31mImportError\u001B[0m                               Traceback (most recent call last)",
      "File \u001B[0;32m~/miniconda3/envs/torch21/lib/python3.8/site-packages/sklearn/__check_build/__init__.py:45\u001B[0m\n\u001B[1;32m     44\u001B[0m \u001B[38;5;28;01mtry\u001B[39;00m:\n\u001B[0;32m---> 45\u001B[0m     \u001B[38;5;28;01mfrom\u001B[39;00m \u001B[38;5;21;01m.\u001B[39;00m\u001B[38;5;21;01m_check_build\u001B[39;00m \u001B[38;5;28;01mimport\u001B[39;00m check_build  \u001B[38;5;66;03m# noqa\u001B[39;00m\n\u001B[1;32m     46\u001B[0m \u001B[38;5;28;01mexcept\u001B[39;00m \u001B[38;5;167;01mImportError\u001B[39;00m \u001B[38;5;28;01mas\u001B[39;00m e:\n",
      "\u001B[0;31mImportError\u001B[0m: /root/miniconda3/envs/torch21/lib/python3.8/site-packages/sklearn/__check_build/../../scikit_learn.libs/libgomp-d22c30c5.so.1.0.0: cannot allocate memory in static TLS block",
      "\nDuring handling of the above exception, another exception occurred:\n",
      "\u001B[0;31mImportError\u001B[0m                               Traceback (most recent call last)",
      "Cell \u001B[0;32mIn[1], line 1\u001B[0m\n\u001B[0;32m----> 1\u001B[0m \u001B[38;5;28;01mfrom\u001B[39;00m \u001B[38;5;21;01mtxgnn\u001B[39;00m \u001B[38;5;28;01mimport\u001B[39;00m TxEval\n\u001B[1;32m      2\u001B[0m \u001B[38;5;28;01mimport\u001B[39;00m \u001B[38;5;21;01mtorch\u001B[39;00m\n\u001B[1;32m      3\u001B[0m \u001B[38;5;28;01mfrom\u001B[39;00m \u001B[38;5;21;01mtxgnn\u001B[39;00m \u001B[38;5;28;01mimport\u001B[39;00m TxData, TxGNNPrompt, TxEval\n",
      "File \u001B[0;32m/z_work/code/reproduct_paper/TxGNN_add_Prompt/txgnn/__init__.py:1\u001B[0m\n\u001B[0;32m----> 1\u001B[0m \u001B[38;5;28;01mfrom\u001B[39;00m \u001B[38;5;21;01m.\u001B[39;00m\u001B[38;5;21;01mTxData\u001B[39;00m \u001B[38;5;28;01mimport\u001B[39;00m TxData\n\u001B[1;32m      2\u001B[0m \u001B[38;5;28;01mfrom\u001B[39;00m \u001B[38;5;21;01m.\u001B[39;00m\u001B[38;5;21;01mTxGNN\u001B[39;00m \u001B[38;5;28;01mimport\u001B[39;00m TxGNN\n\u001B[1;32m      3\u001B[0m \u001B[38;5;28;01mfrom\u001B[39;00m \u001B[38;5;21;01m.\u001B[39;00m\u001B[38;5;21;01mTxEval\u001B[39;00m \u001B[38;5;28;01mimport\u001B[39;00m TxEval\n",
      "File \u001B[0;32m/z_work/code/reproduct_paper/TxGNN_add_Prompt/txgnn/TxData.py:11\u001B[0m\n\u001B[1;32m      8\u001B[0m \u001B[38;5;28;01mfrom\u001B[39;00m \u001B[38;5;21;01mtqdm\u001B[39;00m\u001B[38;5;21;01m.\u001B[39;00m\u001B[38;5;21;01mauto\u001B[39;00m \u001B[38;5;28;01mimport\u001B[39;00m tqdm\n\u001B[1;32m      9\u001B[0m \u001B[38;5;28;01mimport\u001B[39;00m \u001B[38;5;21;01mdgl\u001B[39;00m\n\u001B[0;32m---> 11\u001B[0m \u001B[38;5;28;01mfrom\u001B[39;00m \u001B[38;5;21;01m.\u001B[39;00m\u001B[38;5;21;01mutils\u001B[39;00m \u001B[38;5;28;01mimport\u001B[39;00m preprocess_kg, create_split, process_disease_area_split, create_dgl_graph, evaluate_graph_construct, convert2str, data_download_wrapper\n\u001B[1;32m     13\u001B[0m \u001B[38;5;28;01mimport\u001B[39;00m \u001B[38;5;21;01mwarnings\u001B[39;00m\n\u001B[1;32m     14\u001B[0m warnings\u001B[38;5;241m.\u001B[39mfilterwarnings(\u001B[38;5;124m\"\u001B[39m\u001B[38;5;124mignore\u001B[39m\u001B[38;5;124m\"\u001B[39m)\n",
      "File \u001B[0;32m/z_work/code/reproduct_paper/TxGNN_add_Prompt/txgnn/utils.py:14\u001B[0m\n\u001B[1;32m     12\u001B[0m \u001B[38;5;28;01mfrom\u001B[39;00m \u001B[38;5;21;01mtorch\u001B[39;00m\u001B[38;5;21;01m.\u001B[39;00m\u001B[38;5;21;01mutils\u001B[39;00m \u001B[38;5;28;01mimport\u001B[39;00m data\n\u001B[1;32m     13\u001B[0m \u001B[38;5;28;01mimport\u001B[39;00m \u001B[38;5;21;01mpandas\u001B[39;00m \u001B[38;5;28;01mas\u001B[39;00m \u001B[38;5;21;01mpd\u001B[39;00m\n\u001B[0;32m---> 14\u001B[0m \u001B[38;5;28;01mfrom\u001B[39;00m \u001B[38;5;21;01msklearn\u001B[39;00m\u001B[38;5;21;01m.\u001B[39;00m\u001B[38;5;21;01mmetrics\u001B[39;00m \u001B[38;5;28;01mimport\u001B[39;00m accuracy_score, f1_score, roc_auc_score, average_precision_score\n\u001B[1;32m     15\u001B[0m \u001B[38;5;28;01mimport\u001B[39;00m \u001B[38;5;21;01mcopy\u001B[39;00m\n\u001B[1;32m     16\u001B[0m \u001B[38;5;28;01mimport\u001B[39;00m \u001B[38;5;21;01mpickle\u001B[39;00m\n",
      "File \u001B[0;32m~/miniconda3/envs/torch21/lib/python3.8/site-packages/sklearn/__init__.py:79\u001B[0m\n\u001B[1;32m     68\u001B[0m     sys\u001B[38;5;241m.\u001B[39mstderr\u001B[38;5;241m.\u001B[39mwrite(\u001B[38;5;124m\"\u001B[39m\u001B[38;5;124mPartial import of sklearn during the build process.\u001B[39m\u001B[38;5;130;01m\\n\u001B[39;00m\u001B[38;5;124m\"\u001B[39m)\n\u001B[1;32m     69\u001B[0m     \u001B[38;5;66;03m# We are not importing the rest of scikit-learn during the build\u001B[39;00m\n\u001B[1;32m     70\u001B[0m     \u001B[38;5;66;03m# process, as it may not be compiled yet\u001B[39;00m\n\u001B[1;32m     71\u001B[0m \u001B[38;5;28;01melse\u001B[39;00m:\n\u001B[0;32m   (...)\u001B[0m\n\u001B[1;32m     77\u001B[0m     \u001B[38;5;66;03m# later is linked to the OpenMP runtime to make it possible to introspect\u001B[39;00m\n\u001B[1;32m     78\u001B[0m     \u001B[38;5;66;03m# it and importing it first would fail if the OpenMP dll cannot be found.\u001B[39;00m\n\u001B[0;32m---> 79\u001B[0m     \u001B[38;5;28;01mfrom\u001B[39;00m \u001B[38;5;21;01m.\u001B[39;00m \u001B[38;5;28;01mimport\u001B[39;00m (\n\u001B[1;32m     80\u001B[0m         __check_build,  \u001B[38;5;66;03m# noqa: F401\u001B[39;00m\n\u001B[1;32m     81\u001B[0m         _distributor_init,  \u001B[38;5;66;03m# noqa: F401\u001B[39;00m\n\u001B[1;32m     82\u001B[0m     )\n\u001B[1;32m     83\u001B[0m     \u001B[38;5;28;01mfrom\u001B[39;00m \u001B[38;5;21;01m.\u001B[39;00m\u001B[38;5;21;01mbase\u001B[39;00m \u001B[38;5;28;01mimport\u001B[39;00m clone\n\u001B[1;32m     84\u001B[0m     \u001B[38;5;28;01mfrom\u001B[39;00m \u001B[38;5;21;01m.\u001B[39;00m\u001B[38;5;21;01mutils\u001B[39;00m\u001B[38;5;21;01m.\u001B[39;00m\u001B[38;5;21;01m_show_versions\u001B[39;00m \u001B[38;5;28;01mimport\u001B[39;00m show_versions\n",
      "File \u001B[0;32m~/miniconda3/envs/torch21/lib/python3.8/site-packages/sklearn/__check_build/__init__.py:47\u001B[0m\n\u001B[1;32m     45\u001B[0m     \u001B[38;5;28;01mfrom\u001B[39;00m \u001B[38;5;21;01m.\u001B[39;00m\u001B[38;5;21;01m_check_build\u001B[39;00m \u001B[38;5;28;01mimport\u001B[39;00m check_build  \u001B[38;5;66;03m# noqa\u001B[39;00m\n\u001B[1;32m     46\u001B[0m \u001B[38;5;28;01mexcept\u001B[39;00m \u001B[38;5;167;01mImportError\u001B[39;00m \u001B[38;5;28;01mas\u001B[39;00m e:\n\u001B[0;32m---> 47\u001B[0m     \u001B[43mraise_build_error\u001B[49m\u001B[43m(\u001B[49m\u001B[43me\u001B[49m\u001B[43m)\u001B[49m\n",
      "File \u001B[0;32m~/miniconda3/envs/torch21/lib/python3.8/site-packages/sklearn/__check_build/__init__.py:31\u001B[0m, in \u001B[0;36mraise_build_error\u001B[0;34m(e)\u001B[0m\n\u001B[1;32m     29\u001B[0m         \u001B[38;5;28;01melse\u001B[39;00m:\n\u001B[1;32m     30\u001B[0m             dir_content\u001B[38;5;241m.\u001B[39mappend(filename \u001B[38;5;241m+\u001B[39m \u001B[38;5;124m\"\u001B[39m\u001B[38;5;130;01m\\n\u001B[39;00m\u001B[38;5;124m\"\u001B[39m)\n\u001B[0;32m---> 31\u001B[0m     \u001B[38;5;28;01mraise\u001B[39;00m \u001B[38;5;167;01mImportError\u001B[39;00m(\u001B[38;5;124m\"\"\"\u001B[39m\u001B[38;5;132;01m%s\u001B[39;00m\n\u001B[1;32m     32\u001B[0m \u001B[38;5;124m___________________________________________________________________________\u001B[39m\n\u001B[1;32m     33\u001B[0m \u001B[38;5;124mContents of \u001B[39m\u001B[38;5;132;01m%s\u001B[39;00m\u001B[38;5;124m:\u001B[39m\n\u001B[1;32m     34\u001B[0m \u001B[38;5;132;01m%s\u001B[39;00m\n\u001B[1;32m     35\u001B[0m \u001B[38;5;124m___________________________________________________________________________\u001B[39m\n\u001B[1;32m     36\u001B[0m \u001B[38;5;124mIt seems that scikit-learn has not been built correctly.\u001B[39m\n\u001B[1;32m     37\u001B[0m \n\u001B[1;32m     38\u001B[0m \u001B[38;5;124mIf you have installed scikit-learn from source, please do not forget\u001B[39m\n\u001B[1;32m     39\u001B[0m \u001B[38;5;124mto build the package before using it: run `python setup.py install` or\u001B[39m\n\u001B[1;32m     40\u001B[0m \u001B[38;5;124m`make` in the source directory.\u001B[39m\n\u001B[1;32m     41\u001B[0m \u001B[38;5;132;01m%s\u001B[39;00m\u001B[38;5;124m\"\"\"\u001B[39m \u001B[38;5;241m%\u001B[39m (e, local_dir, \u001B[38;5;124m\"\u001B[39m\u001B[38;5;124m\"\u001B[39m\u001B[38;5;241m.\u001B[39mjoin(dir_content)\u001B[38;5;241m.\u001B[39mstrip(), msg))\n",
      "\u001B[0;31mImportError\u001B[0m: /root/miniconda3/envs/torch21/lib/python3.8/site-packages/sklearn/__check_build/../../scikit_learn.libs/libgomp-d22c30c5.so.1.0.0: cannot allocate memory in static TLS block\n___________________________________________________________________________\nContents of /root/miniconda3/envs/torch21/lib/python3.8/site-packages/sklearn/__check_build:\n__init__.py               _check_build.cpython-38-aarch64-linux-gnu.so__pycache__\n___________________________________________________________________________\nIt seems that scikit-learn has not been built correctly.\n\nIf you have installed scikit-learn from source, please do not forget\nto build the package before using it: run `python setup.py install` or\n`make` in the source directory.\n\nIf you have used an installer, please check that it is suited for your\nPython version, your operating system and your platform."
     ]
    }
   ],
   "execution_count": 1
  },
  {
   "metadata": {},
   "cell_type": "code",
   "outputs": [],
   "execution_count": null,
   "source": [
    "\n",
    "result = TxEval.eval_disease_centric(disease_idxs = [12661.0, 11318.0], \n",
    "                                     relation = 'indication', \n",
    "                                     save_result = False)\n",
    "print(result)"
   ],
   "id": "c8d11612104f79ae"
  }
 ],
 "metadata": {
  "kernelspec": {
   "display_name": "Python 3",
   "language": "python",
   "name": "python3"
  },
  "language_info": {
   "codemirror_mode": {
    "name": "ipython",
    "version": 2
   },
   "file_extension": ".py",
   "mimetype": "text/x-python",
   "name": "python",
   "nbconvert_exporter": "python",
   "pygments_lexer": "ipython2",
   "version": "2.7.6"
  }
 },
 "nbformat": 4,
 "nbformat_minor": 5
}
